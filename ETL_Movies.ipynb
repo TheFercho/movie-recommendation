{
 "cells": [
  {
   "attachments": {},
   "cell_type": "markdown",
   "metadata": {},
   "source": [
    "### Transformaciones: Para este MVP no necesitas perfección, ¡necesitas rapidez! ⏩ Vas a hacer estas, y solo estas, transformaciones a los datos:\n",
    "\n",
    "- Algunos campos, como belongs_to_collection, production_companies y otros (ver diccionario de datos) están anidados, esto es o bien tienen un diccionario o una lista como valores en cada fila, ¡deberán desanidarlos para poder y unirlos al dataset de nuevo hacer alguna de las consultas de la API! O bien buscar la manera de acceder a esos datos sin desanidarlos.\n",
    "\n",
    "- Los valores nulos de los campos revenue, budget deben ser rellenados por el número 0.\n",
    "\n",
    "- Los valores nulos del campo release date deben eliminarse.\n",
    "\n",
    "- De haber fechas, deberán tener el formato AAAA-mm-dd, además deberán crear la columna release_year donde extraerán el año de la fecha de estreno.\n",
    "\n",
    "- Crear la columna con el retorno de inversión, llamada return con los campos revenue y budget, dividiendo estas dos últimas revenue / budget, - cuando no hay datos disponibles para calcularlo, deberá tomar el valor 0.\n",
    "\n",
    "- Eliminar las columnas que no serán utilizadas, video,imdb_id,adult,original_title,poster_path y homepage.\n",
    "\n",
    "Nota: Algunos campos, como belongs_to_collection, production_companies y otros (ver diccionario de datos) están anidados, esto es o bien tienen un diccionario o una lista como valores en cada fila.\n",
    "\n",
    "Deberán desanidarlos para poder unirlos al dataset de nuevo y hacer alguna de las consultas de la API!. \n",
    "O bien buscar la manera de acceder a esos datos sin desanidarlos.\n",
    "\n"
   ]
  },
  {
   "cell_type": "code",
   "execution_count": 514,
   "metadata": {},
   "outputs": [],
   "source": [
    "import pandas as pd\n",
    "import numpy as np\n",
    "import json\n",
    "import re\n"
   ]
  },
  {
   "cell_type": "code",
   "execution_count": 515,
   "metadata": {},
   "outputs": [
    {
     "name": "stderr",
     "output_type": "stream",
     "text": [
      "C:\\Users\\TheFercho\\AppData\\Local\\Temp\\ipykernel_9452\\797142096.py:2: DtypeWarning: Columns (10) have mixed types. Specify dtype option on import or set low_memory=False.\n",
      "  df=pd.read_csv('./Dataset/movies_dataset.csv')\n"
     ]
    }
   ],
   "source": [
    "# cargar dataset\n",
    "df=pd.read_csv('./Dataset/movies_dataset.csv')"
   ]
  },
  {
   "cell_type": "code",
   "execution_count": 516,
   "metadata": {},
   "outputs": [
    {
     "data": {
      "text/plain": [
       "(45466, 24)"
      ]
     },
     "execution_count": 516,
     "metadata": {},
     "output_type": "execute_result"
    }
   ],
   "source": [
    "df.shape"
   ]
  },
  {
   "attachments": {},
   "cell_type": "markdown",
   "metadata": {},
   "source": [
    "#### Verificamos si las columnas son categoricas o numericas para luego transformarlas en el caso que sea necesario."
   ]
  },
  {
   "cell_type": "code",
   "execution_count": 517,
   "metadata": {},
   "outputs": [
    {
     "name": "stdout",
     "output_type": "stream",
     "text": [
      "<class 'pandas.core.frame.DataFrame'>\n",
      "RangeIndex: 45466 entries, 0 to 45465\n",
      "Data columns (total 24 columns):\n",
      " #   Column                 Non-Null Count  Dtype  \n",
      "---  ------                 --------------  -----  \n",
      " 0   adult                  45466 non-null  object \n",
      " 1   belongs_to_collection  4494 non-null   object \n",
      " 2   budget                 45466 non-null  object \n",
      " 3   genres                 45466 non-null  object \n",
      " 4   homepage               7782 non-null   object \n",
      " 5   id                     45466 non-null  object \n",
      " 6   imdb_id                45449 non-null  object \n",
      " 7   original_language      45455 non-null  object \n",
      " 8   original_title         45466 non-null  object \n",
      " 9   overview               44512 non-null  object \n",
      " 10  popularity             45461 non-null  object \n",
      " 11  poster_path            45080 non-null  object \n",
      " 12  production_companies   45463 non-null  object \n",
      " 13  production_countries   45463 non-null  object \n",
      " 14  release_date           45379 non-null  object \n",
      " 15  revenue                45460 non-null  float64\n",
      " 16  runtime                45203 non-null  float64\n",
      " 17  spoken_languages       45460 non-null  object \n",
      " 18  status                 45379 non-null  object \n",
      " 19  tagline                20412 non-null  object \n",
      " 20  title                  45460 non-null  object \n",
      " 21  video                  45460 non-null  object \n",
      " 22  vote_average           45460 non-null  float64\n",
      " 23  vote_count             45460 non-null  float64\n",
      "dtypes: float64(4), object(20)\n",
      "memory usage: 8.3+ MB\n"
     ]
    }
   ],
   "source": [
    "df.info()"
   ]
  },
  {
   "cell_type": "code",
   "execution_count": 518,
   "metadata": {},
   "outputs": [
    {
     "data": {
      "text/html": [
       "<div>\n",
       "<style scoped>\n",
       "    .dataframe tbody tr th:only-of-type {\n",
       "        vertical-align: middle;\n",
       "    }\n",
       "\n",
       "    .dataframe tbody tr th {\n",
       "        vertical-align: top;\n",
       "    }\n",
       "\n",
       "    .dataframe thead th {\n",
       "        text-align: right;\n",
       "    }\n",
       "</style>\n",
       "<table border=\"1\" class=\"dataframe\">\n",
       "  <thead>\n",
       "    <tr style=\"text-align: right;\">\n",
       "      <th></th>\n",
       "      <th>adult</th>\n",
       "      <th>belongs_to_collection</th>\n",
       "      <th>budget</th>\n",
       "      <th>genres</th>\n",
       "      <th>homepage</th>\n",
       "      <th>id</th>\n",
       "      <th>imdb_id</th>\n",
       "      <th>original_language</th>\n",
       "      <th>original_title</th>\n",
       "      <th>overview</th>\n",
       "      <th>...</th>\n",
       "      <th>release_date</th>\n",
       "      <th>revenue</th>\n",
       "      <th>runtime</th>\n",
       "      <th>spoken_languages</th>\n",
       "      <th>status</th>\n",
       "      <th>tagline</th>\n",
       "      <th>title</th>\n",
       "      <th>video</th>\n",
       "      <th>vote_average</th>\n",
       "      <th>vote_count</th>\n",
       "    </tr>\n",
       "  </thead>\n",
       "  <tbody>\n",
       "    <tr>\n",
       "      <th>19730</th>\n",
       "      <td>- Written by Ørnås</td>\n",
       "      <td>0.065736</td>\n",
       "      <td>/ff9qCepilowshEtG2GYWwzt2bs4.jpg</td>\n",
       "      <td>[{'name': 'Carousel Productions', 'id': 11176}...</td>\n",
       "      <td>[{'iso_3166_1': 'CA', 'name': 'Canada'}, {'iso...</td>\n",
       "      <td>1997-08-20</td>\n",
       "      <td>0</td>\n",
       "      <td>104.0</td>\n",
       "      <td>[{'iso_639_1': 'en', 'name': 'English'}]</td>\n",
       "      <td>Released</td>\n",
       "      <td>...</td>\n",
       "      <td>1</td>\n",
       "      <td>NaN</td>\n",
       "      <td>NaN</td>\n",
       "      <td>NaN</td>\n",
       "      <td>NaN</td>\n",
       "      <td>NaN</td>\n",
       "      <td>NaN</td>\n",
       "      <td>NaN</td>\n",
       "      <td>NaN</td>\n",
       "      <td>NaN</td>\n",
       "    </tr>\n",
       "  </tbody>\n",
       "</table>\n",
       "<p>1 rows × 24 columns</p>\n",
       "</div>"
      ],
      "text/plain": [
       "                     adult belongs_to_collection   \n",
       "19730   - Written by Ørnås              0.065736  \\\n",
       "\n",
       "                                 budget   \n",
       "19730  /ff9qCepilowshEtG2GYWwzt2bs4.jpg  \\\n",
       "\n",
       "                                                  genres   \n",
       "19730  [{'name': 'Carousel Productions', 'id': 11176}...  \\\n",
       "\n",
       "                                                homepage          id imdb_id   \n",
       "19730  [{'iso_3166_1': 'CA', 'name': 'Canada'}, {'iso...  1997-08-20       0  \\\n",
       "\n",
       "      original_language                            original_title  overview   \n",
       "19730             104.0  [{'iso_639_1': 'en', 'name': 'English'}]  Released  \\\n",
       "\n",
       "       ... release_date revenue runtime spoken_languages status  tagline   \n",
       "19730  ...            1     NaN     NaN              NaN    NaN      NaN  \\\n",
       "\n",
       "       title video vote_average vote_count  \n",
       "19730    NaN   NaN          NaN        NaN  \n",
       "\n",
       "[1 rows x 24 columns]"
      ]
     },
     "execution_count": 518,
     "metadata": {},
     "output_type": "execute_result"
    }
   ],
   "source": [
    "df.loc[df['id']=='1997-08-20']"
   ]
  },
  {
   "cell_type": "code",
   "execution_count": 519,
   "metadata": {},
   "outputs": [
    {
     "data": {
      "text/html": [
       "<div>\n",
       "<style scoped>\n",
       "    .dataframe tbody tr th:only-of-type {\n",
       "        vertical-align: middle;\n",
       "    }\n",
       "\n",
       "    .dataframe tbody tr th {\n",
       "        vertical-align: top;\n",
       "    }\n",
       "\n",
       "    .dataframe thead th {\n",
       "        text-align: right;\n",
       "    }\n",
       "</style>\n",
       "<table border=\"1\" class=\"dataframe\">\n",
       "  <thead>\n",
       "    <tr style=\"text-align: right;\">\n",
       "      <th></th>\n",
       "      <th>adult</th>\n",
       "      <th>belongs_to_collection</th>\n",
       "      <th>budget</th>\n",
       "      <th>genres</th>\n",
       "      <th>homepage</th>\n",
       "      <th>id</th>\n",
       "      <th>imdb_id</th>\n",
       "      <th>original_language</th>\n",
       "      <th>original_title</th>\n",
       "      <th>overview</th>\n",
       "      <th>...</th>\n",
       "      <th>release_date</th>\n",
       "      <th>revenue</th>\n",
       "      <th>runtime</th>\n",
       "      <th>spoken_languages</th>\n",
       "      <th>status</th>\n",
       "      <th>tagline</th>\n",
       "      <th>title</th>\n",
       "      <th>video</th>\n",
       "      <th>vote_average</th>\n",
       "      <th>vote_count</th>\n",
       "    </tr>\n",
       "  </thead>\n",
       "  <tbody>\n",
       "    <tr>\n",
       "      <th>19730</th>\n",
       "      <td>- Written by Ørnås</td>\n",
       "      <td>0.065736</td>\n",
       "      <td>/ff9qCepilowshEtG2GYWwzt2bs4.jpg</td>\n",
       "      <td>[{'name': 'Carousel Productions', 'id': 11176}...</td>\n",
       "      <td>[{'iso_3166_1': 'CA', 'name': 'Canada'}, {'iso...</td>\n",
       "      <td>1997-08-20</td>\n",
       "      <td>0</td>\n",
       "      <td>104.0</td>\n",
       "      <td>[{'iso_639_1': 'en', 'name': 'English'}]</td>\n",
       "      <td>Released</td>\n",
       "      <td>...</td>\n",
       "      <td>1</td>\n",
       "      <td>NaN</td>\n",
       "      <td>NaN</td>\n",
       "      <td>NaN</td>\n",
       "      <td>NaN</td>\n",
       "      <td>NaN</td>\n",
       "      <td>NaN</td>\n",
       "      <td>NaN</td>\n",
       "      <td>NaN</td>\n",
       "      <td>NaN</td>\n",
       "    </tr>\n",
       "    <tr>\n",
       "      <th>29503</th>\n",
       "      <td>Rune Balot goes to a casino connected to the ...</td>\n",
       "      <td>1.931659</td>\n",
       "      <td>/zV8bHuSL6WXoD6FWogP9j4x80bL.jpg</td>\n",
       "      <td>[{'name': 'Aniplex', 'id': 2883}, {'name': 'Go...</td>\n",
       "      <td>[{'iso_3166_1': 'US', 'name': 'United States o...</td>\n",
       "      <td>2012-09-29</td>\n",
       "      <td>0</td>\n",
       "      <td>68.0</td>\n",
       "      <td>[{'iso_639_1': 'ja', 'name': '日本語'}]</td>\n",
       "      <td>Released</td>\n",
       "      <td>...</td>\n",
       "      <td>12</td>\n",
       "      <td>NaN</td>\n",
       "      <td>NaN</td>\n",
       "      <td>NaN</td>\n",
       "      <td>NaN</td>\n",
       "      <td>NaN</td>\n",
       "      <td>NaN</td>\n",
       "      <td>NaN</td>\n",
       "      <td>NaN</td>\n",
       "      <td>NaN</td>\n",
       "    </tr>\n",
       "    <tr>\n",
       "      <th>35587</th>\n",
       "      <td>Avalanche Sharks tells the story of a bikini ...</td>\n",
       "      <td>2.185485</td>\n",
       "      <td>/zaSf5OG7V8X8gqFvly88zDdRm46.jpg</td>\n",
       "      <td>[{'name': 'Odyssey Media', 'id': 17161}, {'nam...</td>\n",
       "      <td>[{'iso_3166_1': 'CA', 'name': 'Canada'}]</td>\n",
       "      <td>2014-01-01</td>\n",
       "      <td>0</td>\n",
       "      <td>82.0</td>\n",
       "      <td>[{'iso_639_1': 'en', 'name': 'English'}]</td>\n",
       "      <td>Released</td>\n",
       "      <td>...</td>\n",
       "      <td>22</td>\n",
       "      <td>NaN</td>\n",
       "      <td>NaN</td>\n",
       "      <td>NaN</td>\n",
       "      <td>NaN</td>\n",
       "      <td>NaN</td>\n",
       "      <td>NaN</td>\n",
       "      <td>NaN</td>\n",
       "      <td>NaN</td>\n",
       "      <td>NaN</td>\n",
       "    </tr>\n",
       "  </tbody>\n",
       "</table>\n",
       "<p>3 rows × 24 columns</p>\n",
       "</div>"
      ],
      "text/plain": [
       "                                                   adult   \n",
       "19730                                 - Written by Ørnås  \\\n",
       "29503   Rune Balot goes to a casino connected to the ...   \n",
       "35587   Avalanche Sharks tells the story of a bikini ...   \n",
       "\n",
       "      belongs_to_collection                            budget   \n",
       "19730              0.065736  /ff9qCepilowshEtG2GYWwzt2bs4.jpg  \\\n",
       "29503              1.931659  /zV8bHuSL6WXoD6FWogP9j4x80bL.jpg   \n",
       "35587              2.185485  /zaSf5OG7V8X8gqFvly88zDdRm46.jpg   \n",
       "\n",
       "                                                  genres   \n",
       "19730  [{'name': 'Carousel Productions', 'id': 11176}...  \\\n",
       "29503  [{'name': 'Aniplex', 'id': 2883}, {'name': 'Go...   \n",
       "35587  [{'name': 'Odyssey Media', 'id': 17161}, {'nam...   \n",
       "\n",
       "                                                homepage          id imdb_id   \n",
       "19730  [{'iso_3166_1': 'CA', 'name': 'Canada'}, {'iso...  1997-08-20       0  \\\n",
       "29503  [{'iso_3166_1': 'US', 'name': 'United States o...  2012-09-29       0   \n",
       "35587           [{'iso_3166_1': 'CA', 'name': 'Canada'}]  2014-01-01       0   \n",
       "\n",
       "      original_language                            original_title  overview   \n",
       "19730             104.0  [{'iso_639_1': 'en', 'name': 'English'}]  Released  \\\n",
       "29503              68.0      [{'iso_639_1': 'ja', 'name': '日本語'}]  Released   \n",
       "35587              82.0  [{'iso_639_1': 'en', 'name': 'English'}]  Released   \n",
       "\n",
       "       ... release_date revenue runtime spoken_languages status  tagline   \n",
       "19730  ...            1     NaN     NaN              NaN    NaN      NaN  \\\n",
       "29503  ...           12     NaN     NaN              NaN    NaN      NaN   \n",
       "35587  ...           22     NaN     NaN              NaN    NaN      NaN   \n",
       "\n",
       "       title video vote_average vote_count  \n",
       "19730    NaN   NaN          NaN        NaN  \n",
       "29503    NaN   NaN          NaN        NaN  \n",
       "35587    NaN   NaN          NaN        NaN  \n",
       "\n",
       "[3 rows x 24 columns]"
      ]
     },
     "execution_count": 519,
     "metadata": {},
     "output_type": "execute_result"
    }
   ],
   "source": [
    "# Filtrar los registros que no son enteros en la columna 'id'\n",
    "registros_no_enteros = df.loc[~df['id'].str.isdigit()]\n",
    "registros_no_enteros\n",
    "#En este caso, se utiliza la función str.isdigit() para verificar si cada valor de la columna 'id' \n",
    "# es un número entero. Luego, se nega el resultado utilizando el operador ~ para obtener los registros \n",
    "# que no son enteros. El resultado se asigna a la variable registros_no_enteros, y finalmente se imprime.\n",
    "\n",
    "#Esto te proporcionará los registros que no son números enteros en la columna 'id', \n",
    "# los cuales podrías modificar o convertir a tipo integer según tus necesidades."
   ]
  },
  {
   "cell_type": "code",
   "execution_count": 520,
   "metadata": {},
   "outputs": [],
   "source": [
    "# Eliminar la fila donde la columna 'id' tiene el valor '1997-08-20'\n",
    "df = df.drop(df[df['id'] == '1997-08-20'].index)"
   ]
  },
  {
   "cell_type": "code",
   "execution_count": 521,
   "metadata": {},
   "outputs": [],
   "source": [
    "# Obtener los índices de los registros que no son enteros en la columna 'id'\n",
    "indices_no_enteros = df[~df['id'].str.isdigit()].index\n",
    "\n",
    "# Eliminar los registros que no son enteros\n",
    "df = df.drop(indices_no_enteros)\n",
    "\n",
    "#En este caso, se utiliza el método ~ junto con str.isdigit() para obtener los índices de las filas \n",
    "# que no son números enteros en la columna 'id'. Estos índices se asignan a la variable indices_no_enteros. \n",
    "# Luego, se utiliza el método drop junto con los índices para eliminar las filas correspondientes. \n",
    "# El resultado se asigna nuevamente al DataFrame df"
   ]
  },
  {
   "cell_type": "code",
   "execution_count": 522,
   "metadata": {},
   "outputs": [
    {
     "data": {
      "text/plain": [
       "0           862\n",
       "1          8844\n",
       "2         15602\n",
       "3         31357\n",
       "4         11862\n",
       "          ...  \n",
       "45461    439050\n",
       "45462    111109\n",
       "45463     67758\n",
       "45464    227506\n",
       "45465    461257\n",
       "Name: id, Length: 45463, dtype: int32"
      ]
     },
     "execution_count": 522,
     "metadata": {},
     "output_type": "execute_result"
    }
   ],
   "source": [
    "df.id.astype(int)"
   ]
  },
  {
   "attachments": {},
   "cell_type": "markdown",
   "metadata": {},
   "source": [
    "#### - Eliminar las columnas que no serán utilizadas, video,imdb_id,adult,original_title,poster_path y homepage."
   ]
  },
  {
   "cell_type": "code",
   "execution_count": 523,
   "metadata": {},
   "outputs": [
    {
     "data": {
      "text/plain": [
       "Index(['belongs_to_collection', 'budget', 'genres', 'id', 'original_language',\n",
       "       'overview', 'popularity', 'production_companies',\n",
       "       'production_countries', 'release_date', 'revenue', 'runtime',\n",
       "       'spoken_languages', 'status', 'tagline', 'title', 'vote_average',\n",
       "       'vote_count'],\n",
       "      dtype='object')"
      ]
     },
     "execution_count": 523,
     "metadata": {},
     "output_type": "execute_result"
    }
   ],
   "source": [
    "df.drop(['video','imdb_id','adult','original_title','poster_path','homepage'],axis=1,inplace=True)\n",
    "df.columns"
   ]
  },
  {
   "attachments": {},
   "cell_type": "markdown",
   "metadata": {},
   "source": [
    "#### - Los valores nulos de los campos revenue, budget deben ser rellenados por el número 0."
   ]
  },
  {
   "cell_type": "code",
   "execution_count": 524,
   "metadata": {},
   "outputs": [],
   "source": [
    "df['revenue'].fillna(0,inplace=True)"
   ]
  },
  {
   "cell_type": "code",
   "execution_count": 525,
   "metadata": {},
   "outputs": [],
   "source": [
    "df['budget'].fillna(0,inplace=True)"
   ]
  },
  {
   "cell_type": "code",
   "execution_count": 526,
   "metadata": {},
   "outputs": [
    {
     "data": {
      "text/plain": [
       "belongs_to_collection    40972\n",
       "budget                       0\n",
       "genres                       0\n",
       "id                           0\n",
       "original_language           11\n",
       "overview                   954\n",
       "popularity                   3\n",
       "production_companies         3\n",
       "production_countries         3\n",
       "release_date                87\n",
       "revenue                      0\n",
       "runtime                    260\n",
       "spoken_languages             3\n",
       "status                      84\n",
       "tagline                  25051\n",
       "title                        3\n",
       "vote_average                 3\n",
       "vote_count                   3\n",
       "dtype: int64"
      ]
     },
     "execution_count": 526,
     "metadata": {},
     "output_type": "execute_result"
    }
   ],
   "source": [
    "# verificamos valores nulos en general\n",
    "df.isnull().sum()"
   ]
  },
  {
   "cell_type": "code",
   "execution_count": 527,
   "metadata": {},
   "outputs": [
    {
     "data": {
      "text/html": [
       "<div>\n",
       "<style scoped>\n",
       "    .dataframe tbody tr th:only-of-type {\n",
       "        vertical-align: middle;\n",
       "    }\n",
       "\n",
       "    .dataframe tbody tr th {\n",
       "        vertical-align: top;\n",
       "    }\n",
       "\n",
       "    .dataframe thead th {\n",
       "        text-align: right;\n",
       "    }\n",
       "</style>\n",
       "<table border=\"1\" class=\"dataframe\">\n",
       "  <thead>\n",
       "    <tr style=\"text-align: right;\">\n",
       "      <th></th>\n",
       "      <th>belongs_to_collection</th>\n",
       "      <th>budget</th>\n",
       "      <th>genres</th>\n",
       "      <th>id</th>\n",
       "      <th>original_language</th>\n",
       "      <th>overview</th>\n",
       "      <th>popularity</th>\n",
       "      <th>production_companies</th>\n",
       "      <th>production_countries</th>\n",
       "      <th>release_date</th>\n",
       "      <th>revenue</th>\n",
       "      <th>runtime</th>\n",
       "      <th>spoken_languages</th>\n",
       "      <th>status</th>\n",
       "      <th>tagline</th>\n",
       "      <th>title</th>\n",
       "      <th>vote_average</th>\n",
       "      <th>vote_count</th>\n",
       "    </tr>\n",
       "  </thead>\n",
       "  <tbody>\n",
       "    <tr>\n",
       "      <th>676</th>\n",
       "      <td>NaN</td>\n",
       "      <td>0</td>\n",
       "      <td>[{'id': 18, 'name': 'Drama'}, {'id': 10749, 'n...</td>\n",
       "      <td>105045</td>\n",
       "      <td>de</td>\n",
       "      <td>East-Berlin, 1961, shortly after the erection ...</td>\n",
       "      <td>0.122178</td>\n",
       "      <td>[{'name': 'Studio Babelsberg', 'id': 264}, {'n...</td>\n",
       "      <td>[{'iso_3166_1': 'DE', 'name': 'Germany'}]</td>\n",
       "      <td>1995-02-16</td>\n",
       "      <td>0.0</td>\n",
       "      <td>115.0</td>\n",
       "      <td>[{'iso_639_1': 'de', 'name': 'Deutsch'}]</td>\n",
       "      <td>Released</td>\n",
       "      <td>A love, a hope, a wall.</td>\n",
       "      <td>The Promise</td>\n",
       "      <td>5.0</td>\n",
       "      <td>1.0</td>\n",
       "    </tr>\n",
       "    <tr>\n",
       "      <th>838</th>\n",
       "      <td>NaN</td>\n",
       "      <td>0</td>\n",
       "      <td>[{'id': 18, 'name': 'Drama'}]</td>\n",
       "      <td>132641</td>\n",
       "      <td>ja</td>\n",
       "      <td>Ten years into a marriage, the wife is disappo...</td>\n",
       "      <td>0.096079</td>\n",
       "      <td>[{'name': 'Toho Company', 'id': 882}]</td>\n",
       "      <td>[{'iso_3166_1': 'JP', 'name': 'Japan'}]</td>\n",
       "      <td>1953-04-29</td>\n",
       "      <td>0.0</td>\n",
       "      <td>89.0</td>\n",
       "      <td>[{'iso_639_1': 'ja', 'name': '日本語'}]</td>\n",
       "      <td>Released</td>\n",
       "      <td>NaN</td>\n",
       "      <td>Wife</td>\n",
       "      <td>0.0</td>\n",
       "      <td>0.0</td>\n",
       "    </tr>\n",
       "    <tr>\n",
       "      <th>949</th>\n",
       "      <td>NaN</td>\n",
       "      <td>4</td>\n",
       "      <td>[{'id': 18, 'name': 'Drama'}, {'id': 10749, 'n...</td>\n",
       "      <td>22649</td>\n",
       "      <td>en</td>\n",
       "      <td>British nurse Catherine Barkley (Helen Hayes) ...</td>\n",
       "      <td>1.914697</td>\n",
       "      <td>[{'name': 'Paramount Pictures', 'id': 4}]</td>\n",
       "      <td>[{'iso_3166_1': 'US', 'name': 'United States o...</td>\n",
       "      <td>1932-12-08</td>\n",
       "      <td>25.0</td>\n",
       "      <td>89.0</td>\n",
       "      <td>[{'iso_639_1': 'en', 'name': 'English'}]</td>\n",
       "      <td>Released</td>\n",
       "      <td>Every woman who has loved will understand</td>\n",
       "      <td>A Farewell to Arms</td>\n",
       "      <td>6.2</td>\n",
       "      <td>29.0</td>\n",
       "    </tr>\n",
       "    <tr>\n",
       "      <th>1465</th>\n",
       "      <td>NaN</td>\n",
       "      <td>0</td>\n",
       "      <td>[{'id': 18, 'name': 'Drama'}, {'id': 10749, 'n...</td>\n",
       "      <td>105045</td>\n",
       "      <td>de</td>\n",
       "      <td>East-Berlin, 1961, shortly after the erection ...</td>\n",
       "      <td>0.122178</td>\n",
       "      <td>[{'name': 'Studio Babelsberg', 'id': 264}, {'n...</td>\n",
       "      <td>[{'iso_3166_1': 'DE', 'name': 'Germany'}]</td>\n",
       "      <td>1995-02-16</td>\n",
       "      <td>0.0</td>\n",
       "      <td>115.0</td>\n",
       "      <td>[{'iso_639_1': 'de', 'name': 'Deutsch'}]</td>\n",
       "      <td>Released</td>\n",
       "      <td>A love, a hope, a wall.</td>\n",
       "      <td>The Promise</td>\n",
       "      <td>5.0</td>\n",
       "      <td>1.0</td>\n",
       "    </tr>\n",
       "    <tr>\n",
       "      <th>2564</th>\n",
       "      <td>NaN</td>\n",
       "      <td>0</td>\n",
       "      <td>[{'id': 99, 'name': 'Documentary'}]</td>\n",
       "      <td>84198</td>\n",
       "      <td>en</td>\n",
       "      <td>Using personal stories, this powerful document...</td>\n",
       "      <td>0.501046</td>\n",
       "      <td>[]</td>\n",
       "      <td>[{'iso_3166_1': 'US', 'name': 'United States o...</td>\n",
       "      <td>2012-03-22</td>\n",
       "      <td>0.0</td>\n",
       "      <td>84.0</td>\n",
       "      <td>[{'iso_639_1': 'en', 'name': 'English'}]</td>\n",
       "      <td>Released</td>\n",
       "      <td>One Nation. Underfed.</td>\n",
       "      <td>A Place at the Table</td>\n",
       "      <td>6.9</td>\n",
       "      <td>7.0</td>\n",
       "    </tr>\n",
       "  </tbody>\n",
       "</table>\n",
       "</div>"
      ],
      "text/plain": [
       "     belongs_to_collection budget   \n",
       "676                    NaN      0  \\\n",
       "838                    NaN      0   \n",
       "949                    NaN      4   \n",
       "1465                   NaN      0   \n",
       "2564                   NaN      0   \n",
       "\n",
       "                                                 genres      id   \n",
       "676   [{'id': 18, 'name': 'Drama'}, {'id': 10749, 'n...  105045  \\\n",
       "838                       [{'id': 18, 'name': 'Drama'}]  132641   \n",
       "949   [{'id': 18, 'name': 'Drama'}, {'id': 10749, 'n...   22649   \n",
       "1465  [{'id': 18, 'name': 'Drama'}, {'id': 10749, 'n...  105045   \n",
       "2564                [{'id': 99, 'name': 'Documentary'}]   84198   \n",
       "\n",
       "     original_language                                           overview   \n",
       "676                 de  East-Berlin, 1961, shortly after the erection ...  \\\n",
       "838                 ja  Ten years into a marriage, the wife is disappo...   \n",
       "949                 en  British nurse Catherine Barkley (Helen Hayes) ...   \n",
       "1465                de  East-Berlin, 1961, shortly after the erection ...   \n",
       "2564                en  Using personal stories, this powerful document...   \n",
       "\n",
       "     popularity                               production_companies   \n",
       "676    0.122178  [{'name': 'Studio Babelsberg', 'id': 264}, {'n...  \\\n",
       "838    0.096079              [{'name': 'Toho Company', 'id': 882}]   \n",
       "949    1.914697          [{'name': 'Paramount Pictures', 'id': 4}]   \n",
       "1465   0.122178  [{'name': 'Studio Babelsberg', 'id': 264}, {'n...   \n",
       "2564   0.501046                                                 []   \n",
       "\n",
       "                                   production_countries release_date  revenue   \n",
       "676           [{'iso_3166_1': 'DE', 'name': 'Germany'}]   1995-02-16      0.0  \\\n",
       "838             [{'iso_3166_1': 'JP', 'name': 'Japan'}]   1953-04-29      0.0   \n",
       "949   [{'iso_3166_1': 'US', 'name': 'United States o...   1932-12-08     25.0   \n",
       "1465          [{'iso_3166_1': 'DE', 'name': 'Germany'}]   1995-02-16      0.0   \n",
       "2564  [{'iso_3166_1': 'US', 'name': 'United States o...   2012-03-22      0.0   \n",
       "\n",
       "      runtime                          spoken_languages    status   \n",
       "676     115.0  [{'iso_639_1': 'de', 'name': 'Deutsch'}]  Released  \\\n",
       "838      89.0      [{'iso_639_1': 'ja', 'name': '日本語'}]  Released   \n",
       "949      89.0  [{'iso_639_1': 'en', 'name': 'English'}]  Released   \n",
       "1465    115.0  [{'iso_639_1': 'de', 'name': 'Deutsch'}]  Released   \n",
       "2564     84.0  [{'iso_639_1': 'en', 'name': 'English'}]  Released   \n",
       "\n",
       "                                        tagline                 title   \n",
       "676                     A love, a hope, a wall.           The Promise  \\\n",
       "838                                         NaN                  Wife   \n",
       "949   Every woman who has loved will understand    A Farewell to Arms   \n",
       "1465                    A love, a hope, a wall.           The Promise   \n",
       "2564                      One Nation. Underfed.  A Place at the Table   \n",
       "\n",
       "      vote_average  vote_count  \n",
       "676            5.0         1.0  \n",
       "838            0.0         0.0  \n",
       "949            6.2        29.0  \n",
       "1465           5.0         1.0  \n",
       "2564           6.9         7.0  "
      ]
     },
     "execution_count": 527,
     "metadata": {},
     "output_type": "execute_result"
    }
   ],
   "source": [
    "# Mostrar los registros repetidos de la columna 'id'\n",
    "duplicados = df[df.duplicated(['id'], keep=False)] # El parámetro keep=False se utiliza para marcar todos \n",
    "# los duplicados como True, de modo que se muestren todos los registros duplicados.\n",
    "duplicados.head()"
   ]
  },
  {
   "cell_type": "code",
   "execution_count": 528,
   "metadata": {},
   "outputs": [
    {
     "data": {
      "text/plain": [
       "belongs_to_collection                                                  NaN\n",
       "budget                                                             5402000\n",
       "genres                                      [{'id': 35, 'name': 'Comedy'}]\n",
       "id                                                                  277839\n",
       "original_language                                                       fr\n",
       "overview                 Franky and Krimo dream of leaving the grey gri...\n",
       "popularity                                                        5.613875\n",
       "production_companies            [{'name': 'Mandarin Cinéma', 'id': 57294}]\n",
       "production_countries              [{'iso_3166_1': 'FR', 'name': 'France'}]\n",
       "release_date                                                    2016-02-24\n",
       "revenue                                                                0.0\n",
       "runtime                                                              100.0\n",
       "spoken_languages                 [{'iso_639_1': 'fr', 'name': 'Français'}]\n",
       "status                                                            Released\n",
       "tagline                                                                NaN\n",
       "title                       Good Guys Go to Heaven, Bad Guys Go to Pattaya\n",
       "vote_average                                                           5.3\n",
       "vote_count                                                           153.0\n",
       "Name: 45268, dtype: object"
      ]
     },
     "execution_count": 528,
     "metadata": {},
     "output_type": "execute_result"
    }
   ],
   "source": [
    "df.iloc[45265]"
   ]
  },
  {
   "cell_type": "code",
   "execution_count": 529,
   "metadata": {},
   "outputs": [
    {
     "data": {
      "text/plain": [
       "revenue    0\n",
       "budget     0\n",
       "dtype: int64"
      ]
     },
     "execution_count": 529,
     "metadata": {},
     "output_type": "execute_result"
    }
   ],
   "source": [
    "# Verificamos nulos de revenue y budget para reemplazamos por valor 0\n",
    "df[['revenue','budget']].isnull().sum()"
   ]
  },
  {
   "attachments": {},
   "cell_type": "markdown",
   "metadata": {},
   "source": [
    "#### - Crear la columna con el retorno de inversión, llamada return con los campos revenue y budget, dividiendo estas dos últimas revenue / budget, cuando no hay datos disponibles para calcularlo, deberá tomar el valor 0."
   ]
  },
  {
   "cell_type": "code",
   "execution_count": 530,
   "metadata": {},
   "outputs": [],
   "source": [
    "# verificamos la fila en donde se encuetra el dato errado => [] y lo reemplazamos por 0\n",
    "# Armar luego una funcion para automatizarlo\n",
    "df.iloc[19714]=0\n",
    "df.iloc[29472]=0\n",
    "df.iloc[35543]=0"
   ]
  },
  {
   "cell_type": "code",
   "execution_count": 531,
   "metadata": {},
   "outputs": [
    {
     "data": {
      "text/plain": [
       "0    373554033.0\n",
       "1    262797249.0\n",
       "Name: revenue, dtype: float64"
      ]
     },
     "execution_count": 531,
     "metadata": {},
     "output_type": "execute_result"
    }
   ],
   "source": [
    "df['revenue'].head(2)"
   ]
  },
  {
   "cell_type": "code",
   "execution_count": 532,
   "metadata": {},
   "outputs": [],
   "source": [
    "# Pasamos los valores de la col 'budget' string a float. Tenemos 2 formas:\n",
    "#df[['budget']].astype(float)\n",
    "#df[['revenue']].astype(float)\n",
    "#pd.to_numeric(df['budget'], downcast='float')\n",
    "#pd.to_numeric(df['revenue'], downcast='float')"
   ]
  },
  {
   "cell_type": "code",
   "execution_count": 533,
   "metadata": {},
   "outputs": [],
   "source": [
    "df['revenue']=df['revenue'].astype(float)"
   ]
  },
  {
   "cell_type": "code",
   "execution_count": 534,
   "metadata": {},
   "outputs": [],
   "source": [
    "df['budget']=df['budget'].astype(float)"
   ]
  },
  {
   "attachments": {},
   "cell_type": "markdown",
   "metadata": {},
   "source": [
    "#### - Creamos la columna 'return' con la division de las columnas 'budget' y 'revenue'"
   ]
  },
  {
   "cell_type": "code",
   "execution_count": 535,
   "metadata": {},
   "outputs": [],
   "source": [
    "\n",
    "df['return']=df['revenue'] / df['budget']"
   ]
  },
  {
   "attachments": {},
   "cell_type": "markdown",
   "metadata": {},
   "source": [
    "#### - Los valores nulos del campo 'release_date' deben eliminarse."
   ]
  },
  {
   "cell_type": "code",
   "execution_count": 536,
   "metadata": {},
   "outputs": [],
   "source": [
    "#Los valores nulos del campo release date deben eliminarse.\n",
    "#df['release_date']=df['release_date'].dropna()\n",
    "df = df.dropna(subset = ['release_date'])"
   ]
  },
  {
   "cell_type": "code",
   "execution_count": 537,
   "metadata": {},
   "outputs": [
    {
     "data": {
      "text/plain": [
       "0"
      ]
     },
     "execution_count": 537,
     "metadata": {},
     "output_type": "execute_result"
    }
   ],
   "source": [
    "df['release_date'].isnull().sum()"
   ]
  },
  {
   "attachments": {},
   "cell_type": "markdown",
   "metadata": {},
   "source": [
    "#### - Crear la columna 'release_year' donde extraerán el año de la fecha de estreno."
   ]
  },
  {
   "cell_type": "code",
   "execution_count": 538,
   "metadata": {},
   "outputs": [
    {
     "data": {
      "text/plain": [
       "0        1995-10-30\n",
       "1        1995-12-15\n",
       "2        1995-12-22\n",
       "3        1995-12-22\n",
       "4        1995-02-10\n",
       "            ...    \n",
       "45460    1991-05-13\n",
       "45462    2011-11-17\n",
       "45463    2003-08-01\n",
       "45464    1917-10-21\n",
       "45465    2017-06-09\n",
       "Name: release_date, Length: 45376, dtype: object"
      ]
     },
     "execution_count": 538,
     "metadata": {},
     "output_type": "execute_result"
    }
   ],
   "source": [
    "df.release_date"
   ]
  },
  {
   "cell_type": "code",
   "execution_count": 539,
   "metadata": {},
   "outputs": [
    {
     "data": {
      "text/plain": [
       "belongs_to_collection      0\n",
       "budget                   0.0\n",
       "genres                     0\n",
       "id                         0\n",
       "original_language          0\n",
       "overview                   0\n",
       "popularity                 0\n",
       "production_companies       0\n",
       "production_countries       0\n",
       "release_date               0\n",
       "revenue                  0.0\n",
       "runtime                  0.0\n",
       "spoken_languages           0\n",
       "status                     0\n",
       "tagline                    0\n",
       "title                      0\n",
       "vote_average             0.0\n",
       "vote_count               0.0\n",
       "return                   NaN\n",
       "Name: 19714, dtype: object"
      ]
     },
     "execution_count": 539,
     "metadata": {},
     "output_type": "execute_result"
    }
   ],
   "source": [
    "df.loc[19714]"
   ]
  },
  {
   "cell_type": "code",
   "execution_count": 540,
   "metadata": {},
   "outputs": [
    {
     "data": {
      "text/plain": [
       "Index(['belongs_to_collection', 'budget', 'genres', 'id', 'original_language',\n",
       "       'overview', 'popularity', 'production_companies',\n",
       "       'production_countries', 'release_date', 'revenue', 'runtime',\n",
       "       'spoken_languages', 'status', 'tagline', 'title', 'vote_average',\n",
       "       'vote_count', 'return'],\n",
       "      dtype='object')"
      ]
     },
     "execution_count": 540,
     "metadata": {},
     "output_type": "execute_result"
    }
   ],
   "source": [
    "df.columns"
   ]
  },
  {
   "cell_type": "code",
   "execution_count": 541,
   "metadata": {},
   "outputs": [],
   "source": [
    "# rellenamos los datos faltantes de la columna spoken_languages\n",
    "df['spoken_languages']=df['spoken_languages'].fillna('Not Available')"
   ]
  },
  {
   "attachments": {},
   "cell_type": "markdown",
   "metadata": {},
   "source": [
    "#### - De haber fechas, deberán tener el formato AAAA-mm-dd, además deberán crear la columna release_year donde extraerán el año de la fecha de estreno."
   ]
  },
  {
   "cell_type": "code",
   "execution_count": 462,
   "metadata": {},
   "outputs": [],
   "source": [
    "# Cambiamos las fechas de la columna 'release_date' a formato AAAA-mm-dd, ignorando con 'coerce'\n",
    "# los valores que no cumplen con el criterio para la funcion .to_datetime\n",
    "df[\"release_date\"] = pd.to_datetime(df['release_date'],errors='coerce')\n"
   ]
  },
  {
   "cell_type": "code",
   "execution_count": 463,
   "metadata": {},
   "outputs": [
    {
     "data": {
      "text/plain": [
       "0       1995-10-30\n",
       "1       1995-12-15\n",
       "2       1995-12-22\n",
       "3       1995-12-22\n",
       "4       1995-02-10\n",
       "           ...    \n",
       "45460   1991-05-13\n",
       "45462   2011-11-17\n",
       "45463   2003-08-01\n",
       "45464   1917-10-21\n",
       "45465   2017-06-09\n",
       "Name: release_date, Length: 45376, dtype: datetime64[ns]"
      ]
     },
     "execution_count": 463,
     "metadata": {},
     "output_type": "execute_result"
    }
   ],
   "source": [
    "df.release_date"
   ]
  },
  {
   "cell_type": "code",
   "execution_count": null,
   "metadata": {},
   "outputs": [],
   "source": [
    "# Crear una nueva columna 'year' con el año extraído\n",
    "df['release_year'] = df['release_date'].dt.year.fillna(0).astype(int)\n",
    "df.year"
   ]
  },
  {
   "cell_type": "code",
   "execution_count": null,
   "metadata": {},
   "outputs": [],
   "source": [
    "# Crear una nueva columna 'release_month' con el año extraído\n",
    "df['release_month'] = df['release_date'].dt.month.fillna(0).astype(int)\n"
   ]
  },
  {
   "cell_type": "code",
   "execution_count": null,
   "metadata": {},
   "outputs": [],
   "source": [
    "df.release_month"
   ]
  },
  {
   "cell_type": "code",
   "execution_count": null,
   "metadata": {},
   "outputs": [],
   "source": [
    "from datetime import datetime\n",
    "import calendar"
   ]
  },
  {
   "cell_type": "code",
   "execution_count": null,
   "metadata": {},
   "outputs": [],
   "source": [
    "# Obtener el nombre del día de la semana en inglés\n",
    "df['release_day'] = df['release_date'].dt.day_name()"
   ]
  },
  {
   "cell_type": "code",
   "execution_count": null,
   "metadata": {},
   "outputs": [],
   "source": [
    "# Rellenar los valores faltantes con una cadena vacía ('')\n",
    "df['release_day'] = df['release_day'].fillna('')"
   ]
  },
  {
   "cell_type": "code",
   "execution_count": null,
   "metadata": {},
   "outputs": [
    {
     "data": {
      "text/plain": [
       "0          Monday\n",
       "1          Friday\n",
       "2          Friday\n",
       "3          Friday\n",
       "4          Friday\n",
       "           ...   \n",
       "45460      Monday\n",
       "45462    Thursday\n",
       "45463      Friday\n",
       "45464      Sunday\n",
       "45465      Friday\n",
       "Name: release_day, Length: 45376, dtype: object"
      ]
     },
     "execution_count": 414,
     "metadata": {},
     "output_type": "execute_result"
    }
   ],
   "source": [
    "df.release_day"
   ]
  },
  {
   "cell_type": "code",
   "execution_count": null,
   "metadata": {},
   "outputs": [],
   "source": [
    "#df['spoken_languages'][0:]\n",
    "#ejemplo=pd.DataFrame(df['spoken_languages'])"
   ]
  },
  {
   "cell_type": "code",
   "execution_count": null,
   "metadata": {},
   "outputs": [],
   "source": [
    "# ejemplo para dividir con coma','  la cadena de texto en donde aparece un espacio. '\\s'\n",
    "#re.split('\\s',df['spoken_languages'][0])"
   ]
  },
  {
   "cell_type": "code",
   "execution_count": null,
   "metadata": {},
   "outputs": [],
   "source": [
    "#valor_iso= df['spoken_languages'][1]\n",
    "#print(re.search(r\"'\\w\\w'\",valor_iso))\n",
    "# verificamos que los valores de la columna son cadena string.\n",
    "#type(df['spoken_languages'][1])\n",
    "#df_lenguaje= pd.DataFrame(df['spoken_languages'])\n",
    "# alternativa para separar en nuevas columnas teniendo en cuenta como separador de la cadena string\n",
    "# la coma ','\n",
    "#df_lenguaje['spoken_languages'].str.split(',',n=3,expand=True)"
   ]
  },
  {
   "cell_type": "code",
   "execution_count": null,
   "metadata": {},
   "outputs": [],
   "source": [
    "df['spoken_languages'].unique()"
   ]
  },
  {
   "cell_type": "code",
   "execution_count": null,
   "metadata": {},
   "outputs": [],
   "source": [
    "import ast\n",
    "\n",
    "def parse_spoken_languages(x):\n",
    "    try:\n",
    "        return ast.literal_eval(x)\n",
    "    except (SyntaxError, ValueError):\n",
    "        return []\n",
    "\n",
    "df['spoken_languages'] = df['spoken_languages'].apply(lambda x: parse_spoken_languages(x) if pd.notnull(x) else [])"
   ]
  },
  {
   "cell_type": "code",
   "execution_count": null,
   "metadata": {},
   "outputs": [
    {
     "data": {
      "text/plain": [
       "0                  [English]\n",
       "1        [English, Français]\n",
       "2                  [English]\n",
       "3                  [English]\n",
       "4                  [English]\n",
       "                ...         \n",
       "45460              [English]\n",
       "45462                     []\n",
       "45463              [English]\n",
       "45464                     []\n",
       "45465              [English]\n",
       "Name: spoken_languages, Length: 45376, dtype: object"
      ]
     },
     "execution_count": 418,
     "metadata": {},
     "output_type": "execute_result"
    }
   ],
   "source": [
    "df['spoken_languages'] = df['spoken_languages'].apply( lambda x: [lang['name'] for lang in x] if isinstance(x,list) else x)\n",
    "df.spoken_languages"
   ]
  },
  {
   "cell_type": "code",
   "execution_count": null,
   "metadata": {},
   "outputs": [],
   "source": [
    "# Otras opciones para parsear con regex\n",
    "#df['iso_spoken_languages']=df.spoken_languages.str.extract(\"('\\w\\w')\")\n",
    "# Eliminar las comillas usando .str.strip()\n",
    "#df['iso_spoken_languages'] = df['iso_spoken_languages'].str.strip(\"'\")"
   ]
  },
  {
   "cell_type": "code",
   "execution_count": null,
   "metadata": {},
   "outputs": [
    {
     "data": {
      "text/plain": [
       "0                  [English]\n",
       "1        [English, Français]\n",
       "2                  [English]\n",
       "3                  [English]\n",
       "4                  [English]\n",
       "                ...         \n",
       "45460              [English]\n",
       "45462                     []\n",
       "45463              [English]\n",
       "45464                     []\n",
       "45465              [English]\n",
       "Name: spoken_languages, Length: 45376, dtype: object"
      ]
     },
     "execution_count": 419,
     "metadata": {},
     "output_type": "execute_result"
    }
   ],
   "source": [
    "df.spoken_languages"
   ]
  },
  {
   "cell_type": "code",
   "execution_count": null,
   "metadata": {},
   "outputs": [
    {
     "data": {
      "text/plain": [
       "Index(['belongs_to_collection', 'budget', 'genres', 'id', 'original_language',\n",
       "       'overview', 'popularity', 'production_companies',\n",
       "       'production_countries', 'release_date', 'revenue', 'runtime',\n",
       "       'spoken_languages', 'status', 'tagline', 'title', 'vote_average',\n",
       "       'vote_count', 'return', 'release_year', 'release_day'],\n",
       "      dtype='object')"
      ]
     },
     "execution_count": 420,
     "metadata": {},
     "output_type": "execute_result"
    }
   ],
   "source": [
    "df.columns"
   ]
  },
  {
   "cell_type": "code",
   "execution_count": null,
   "metadata": {},
   "outputs": [],
   "source": [
    "df.isnull().sum()"
   ]
  },
  {
   "attachments": {},
   "cell_type": "markdown",
   "metadata": {},
   "source": [
    "#### - Teniendo en cuenta las funciones a desarrollar, las siguientes columnas se consideran irrelevantes, ya sea por la falta de informacion o poco peso a la hora de evaluar las funciones. Las columnas son: 'belongs_to_collection', 'status', 'tagline', 'overview'."
   ]
  },
  {
   "cell_type": "code",
   "execution_count": null,
   "metadata": {},
   "outputs": [],
   "source": [
    "df.drop(['belongs_to_collection','status','tagline','overview'],axis=1,inplace=True)"
   ]
  },
  {
   "cell_type": "code",
   "execution_count": null,
   "metadata": {},
   "outputs": [],
   "source": [
    "df.columns"
   ]
  },
  {
   "cell_type": "code",
   "execution_count": null,
   "metadata": {},
   "outputs": [],
   "source": [
    "df.genres.unique()"
   ]
  },
  {
   "cell_type": "code",
   "execution_count": null,
   "metadata": {},
   "outputs": [],
   "source": [
    "import ast\n",
    "\n",
    "def parse_genres(x):\n",
    "    try:\n",
    "        return ast.literal_eval(x)\n",
    "    except (SyntaxError, ValueError):\n",
    "        return []\n",
    "\n",
    "df['genres'] = df['genres'].apply(lambda x: parse_genres(x) if pd.notnull(x) else [])\n",
    "\n",
    "# hemos creado una función parse_genres que intenta evaluar la cadena de texto utilizando ast.literal_eval(). \n",
    "# Si ocurre algún error durante la evaluación, como una sintaxis incorrecta o un valor no válido, la función \n",
    "# capturará la excepción y retornará una lista vacía en su lugar.\n",
    "# Luego, aplicamos esta función a cada valor de la columna 'genres' utilizando apply(). \n",
    "# Si el valor es NaN, se asigna una lista vacía directamente.\n",
    "# Con este enfoque, cualquier valor incorrecto o incompatible en la columna 'genres' se manejará adecuadamente \n",
    "# y se asignará una lista vacía en su lugar. Esto debería evitar que se produzca el error \n",
    "# \"ValueError: malformed node or string: 0\".\n"
   ]
  },
  {
   "cell_type": "code",
   "execution_count": null,
   "metadata": {},
   "outputs": [],
   "source": [
    "df['genres'] = df['genres'].apply( lambda x: [lang['name'] for lang in x] if isinstance(x,list) else x)\n",
    "df.genres"
   ]
  },
  {
   "cell_type": "code",
   "execution_count": null,
   "metadata": {},
   "outputs": [],
   "source": [
    "df.columns"
   ]
  },
  {
   "cell_type": "code",
   "execution_count": null,
   "metadata": {},
   "outputs": [],
   "source": [
    "# Utilizamos el mismo metodo que 'genres' (para columnas anidadas)\n",
    "def parse_production_companies(x):\n",
    "    try:\n",
    "        return ast.literal_eval(x)\n",
    "    except (SyntaxError, ValueError):\n",
    "        return []\n",
    "\n",
    "df['production_companies'] = df['production_companies'].apply(lambda x: parse_production_companies(x) if pd.notnull(x) else [])"
   ]
  },
  {
   "cell_type": "code",
   "execution_count": null,
   "metadata": {},
   "outputs": [],
   "source": [
    "df['production_companies'] = df['production_companies'].apply( lambda x: [lang['name'] for lang in x] if isinstance(x,list) else x)\n",
    "df.production_companies"
   ]
  },
  {
   "cell_type": "code",
   "execution_count": null,
   "metadata": {},
   "outputs": [],
   "source": [
    "# Utilizamos el mismo metodo que 'genres' (para columnas anidadas)\n",
    "def parse_production_countries(x):\n",
    "    try:\n",
    "        return ast.literal_eval(x)\n",
    "    except (SyntaxError, ValueError):\n",
    "        return []\n",
    "\n",
    "df['production_countries'] = df['production_countries'].apply(lambda x: parse_production_countries(x) if pd.notnull(x) else [])"
   ]
  },
  {
   "cell_type": "code",
   "execution_count": null,
   "metadata": {},
   "outputs": [],
   "source": [
    "df['production_countries'] = df['production_countries'].apply( lambda x: [lang['iso_3166_1'] for lang in x] if isinstance(x,list) else x)\n",
    "df.production_countries"
   ]
  },
  {
   "cell_type": "code",
   "execution_count": null,
   "metadata": {},
   "outputs": [],
   "source": [
    "df_v1=df"
   ]
  },
  {
   "cell_type": "code",
   "execution_count": 466,
   "metadata": {},
   "outputs": [
    {
     "data": {
      "text/plain": [
       "Index(['budget', 'genres', 'id', 'original_language', 'popularity',\n",
       "       'production_companies', 'production_countries', 'release_date',\n",
       "       'revenue', 'runtime', 'spoken_languages', 'title', 'vote_average',\n",
       "       'vote_count', 'return', 'release_year', 'release_day'],\n",
       "      dtype='object')"
      ]
     },
     "execution_count": 466,
     "metadata": {},
     "output_type": "execute_result"
    }
   ],
   "source": [
    "df_v1.columns"
   ]
  },
  {
   "cell_type": "code",
   "execution_count": 471,
   "metadata": {},
   "outputs": [],
   "source": [
    "# opcion 1 -Pasamos los codigoas a uppercase. utilizamos el método str.upper() para convertir los códigos ISO a mayúsculas y el \n",
    "# método tolist()  para convertir la columna en una lista.\n",
    "df_v1['original_language']=df_v1['original_language'].str.upper().tolist()\n",
    "# opcion 2 -Convertir los códigos ISO a mayúsculas y agregar corchetes\n",
    "df['original_language'] = df['original_language'].apply(lambda x: f\"[{x.upper()}]\")\n"
   ]
  },
  {
   "cell_type": "code",
   "execution_count": 486,
   "metadata": {},
   "outputs": [],
   "source": [
    "# Pasamos float a int\n",
    "df_v1['vote_count']=df_v1.vote_count.astype(int)"
   ]
  },
  {
   "cell_type": "code",
   "execution_count": 494,
   "metadata": {},
   "outputs": [],
   "source": [
    "# Pasamos object to int\n",
    "df_v1['id']=df_v1.id.astype(int)"
   ]
  },
  {
   "cell_type": "code",
   "execution_count": 505,
   "metadata": {},
   "outputs": [
    {
     "name": "stdout",
     "output_type": "stream",
     "text": [
      "<class 'pandas.core.frame.DataFrame'>\n",
      "Index: 45376 entries, 0 to 45465\n",
      "Data columns (total 17 columns):\n",
      " #   Column                Non-Null Count  Dtype         \n",
      "---  ------                --------------  -----         \n",
      " 0   budget                45376 non-null  float64       \n",
      " 1   genres                45376 non-null  object        \n",
      " 2   id                    45376 non-null  int32         \n",
      " 3   original_language     45376 non-null  object        \n",
      " 4   popularity            45376 non-null  object        \n",
      " 5   production_companies  45376 non-null  object        \n",
      " 6   production_countries  45376 non-null  object        \n",
      " 7   release_date          45376 non-null  datetime64[ns]\n",
      " 8   revenue               45376 non-null  float64       \n",
      " 9   runtime               45376 non-null  float64       \n",
      " 10  spoken_languages      45376 non-null  object        \n",
      " 11  title                 45376 non-null  object        \n",
      " 12  vote_average          45376 non-null  float64       \n",
      " 13  vote_count            45376 non-null  int32         \n",
      " 14  return                45376 non-null  float64       \n",
      " 15  release_year          45376 non-null  int32         \n",
      " 16  release_day           45376 non-null  object        \n",
      "dtypes: datetime64[ns](1), float64(5), int32(3), object(8)\n",
      "memory usage: 6.7+ MB\n"
     ]
    }
   ],
   "source": [
    "df_v1.info()"
   ]
  },
  {
   "cell_type": "code",
   "execution_count": 504,
   "metadata": {},
   "outputs": [],
   "source": [
    "df_v1['release_date'].fillna('1900-01-01',inplace=True)"
   ]
  },
  {
   "cell_type": "code",
   "execution_count": 510,
   "metadata": {},
   "outputs": [],
   "source": [
    "df_v1 = df_v1.drop_duplicates(subset='id')"
   ]
  },
  {
   "cell_type": "code",
   "execution_count": 511,
   "metadata": {},
   "outputs": [
    {
     "name": "stdout",
     "output_type": "stream",
     "text": [
      "<class 'pandas.core.frame.DataFrame'>\n",
      "Index: 45344 entries, 0 to 45465\n",
      "Data columns (total 17 columns):\n",
      " #   Column                Non-Null Count  Dtype         \n",
      "---  ------                --------------  -----         \n",
      " 0   budget                45344 non-null  float64       \n",
      " 1   genres                45344 non-null  object        \n",
      " 2   id                    45344 non-null  int32         \n",
      " 3   original_language     45344 non-null  object        \n",
      " 4   popularity            45344 non-null  object        \n",
      " 5   production_companies  45344 non-null  object        \n",
      " 6   production_countries  45344 non-null  object        \n",
      " 7   release_date          45344 non-null  datetime64[ns]\n",
      " 8   revenue               45344 non-null  float64       \n",
      " 9   runtime               45344 non-null  float64       \n",
      " 10  spoken_languages      45344 non-null  object        \n",
      " 11  title                 45344 non-null  object        \n",
      " 12  vote_average          45344 non-null  float64       \n",
      " 13  vote_count            45344 non-null  int32         \n",
      " 14  return                45344 non-null  float64       \n",
      " 15  release_year          45344 non-null  int32         \n",
      " 16  release_day           45344 non-null  object        \n",
      "dtypes: datetime64[ns](1), float64(5), int32(3), object(8)\n",
      "memory usage: 5.7+ MB\n"
     ]
    }
   ],
   "source": [
    "df_v1.info()"
   ]
  },
  {
   "cell_type": "code",
   "execution_count": 513,
   "metadata": {},
   "outputs": [],
   "source": [
    "df_v1.to_csv('ETL_v1_Movies.csv',index=False)"
   ]
  }
 ],
 "metadata": {
  "kernelspec": {
   "display_name": "Python 3",
   "language": "python",
   "name": "python3"
  },
  "language_info": {
   "codemirror_mode": {
    "name": "ipython",
    "version": 3
   },
   "file_extension": ".py",
   "mimetype": "text/x-python",
   "name": "python",
   "nbconvert_exporter": "python",
   "pygments_lexer": "ipython3",
   "version": "3.11.3"
  },
  "orig_nbformat": 4
 },
 "nbformat": 4,
 "nbformat_minor": 2
}
