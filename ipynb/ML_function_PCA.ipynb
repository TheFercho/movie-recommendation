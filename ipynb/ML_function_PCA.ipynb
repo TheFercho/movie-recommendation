{
 "cells": [
  {
   "attachments": {},
   "cell_type": "markdown",
   "metadata": {},
   "source": [
    "### Armar un sistema de recomendación de películas. \n",
    "\n",
    "Éste consiste en recomendar películas a los usuarios basándose en películas similares, por lo que se debe encontrar la similitud de puntuación entre esa película y el resto de películas. \n",
    "\n",
    "Se ordenarán según el score de similaridad y devolverá:\n",
    "- una lista de Python con 5 valores, \n",
    "- cada uno siendo el string del nombre de las películas con mayor puntaje \n",
    "- en orden descendente."
   ]
  },
  {
   "cell_type": "code",
   "execution_count": 1,
   "metadata": {},
   "outputs": [],
   "source": [
    "import pandas as pd\n",
    "from sklearn.preprocessing import MultiLabelBinarizer\n",
    "from sklearn.decomposition import PCA\n",
    "from sklearn.neighbors import NearestNeighbors"
   ]
  },
  {
   "cell_type": "code",
   "execution_count": 10,
   "metadata": {},
   "outputs": [],
   "source": [
    "df = pd.read_csv('C:/Users/TheFercho/Desktop/SoyHenry/Labs/PI_TheFercho_labs/ML_dataset.csv')"
   ]
  },
  {
   "cell_type": "code",
   "execution_count": 11,
   "metadata": {},
   "outputs": [
    {
     "data": {
      "text/plain": [
       "Index(['id', 'title', 'genres', 'original_language', 'spoken_languages',\n",
       "       'popularity', 'production_companies', 'production_countries',\n",
       "       'release_year', 'vote_count', 'vote_average'],\n",
       "      dtype='object')"
      ]
     },
     "execution_count": 11,
     "metadata": {},
     "output_type": "execute_result"
    }
   ],
   "source": [
    "df.columns"
   ]
  },
  {
   "cell_type": "code",
   "execution_count": 21,
   "metadata": {},
   "outputs": [],
   "source": [
    "# Análisis de Componentes Principales (PCA). El PCA es una técnica de reducción de dimensionalidad que \n",
    "# transforma un conjunto de variables correlacionadas en un conjunto más pequeño de variables no correlacionadas \n",
    "# llamadas componentes principales.\n",
    "\n",
    "def recomendacion_4(titulo):\n",
    "    # Cargar el dataframe\n",
    "        \n",
    "    # Obtener el índice de la película que coincide con el título ingresado (case insensitive)\n",
    "    indices = pd.Series(df.index, index=df['title'].str.lower()).drop_duplicates()\n",
    "    titulo_lower = titulo.lower()\n",
    "    \n",
    "    if titulo_lower not in indices:\n",
    "        return \"Título no encontrado\"\n",
    "    \n",
    "    idx = indices[titulo_lower]\n",
    "    \n",
    "    # Seleccionar las características relevantes para el algoritmo KNN\n",
    "    features = ['popularity', 'vote_average', 'vote_count', 'genres']\n",
    "    X = df[features]\n",
    "    \n",
    "    # Convertir las listas en columnas binarias utilizando MultiLabelBinarizer\n",
    "    mlb = MultiLabelBinarizer()\n",
    "    encoded_genres = pd.DataFrame(mlb.fit_transform(X['genres']), columns=mlb.classes_, index=X.index)\n",
    "    \n",
    "    # Convertir los nombres de características numéricas a cadenas\n",
    "    numeric_features = X.drop('genres', axis=1)\n",
    "    numeric_features.columns = numeric_features.columns.astype(str)\n",
    "    \n",
    "    # Aplicar PCA para reducir la dimensionalidad\n",
    "    pca = PCA(n_components=0.9)  # Mantenemos el 90% de la varianza explicada\n",
    "    encoded_genres_pca = pca.fit_transform(encoded_genres)\n",
    "    \n",
    "    # Concatenar las características numéricas y las características transformadas por PCA\n",
    "    X = pd.concat([numeric_features, pd.DataFrame(encoded_genres_pca)], axis=1)\n",
    "    \n",
    "    # Normalizar las características\n",
    "    X = (X - X.mean()) / X.std()\n",
    "    \n",
    "    # Crear una instancia del algoritmo KNN\n",
    "    knn = NearestNeighbors(n_neighbors=6)  # Consideramos 6 vecinos, incluyendo la película seleccionada\n",
    "    \n",
    "    # Resolvemos el siguiente error con la recomendacion de la propia libreria:  \n",
    "    # Feature names are only supported if all input features have string names, but your input has ['int', 'str'] \n",
    "    # as feature name / column name types. If you want feature names to be stored and validated, \n",
    "    # you must convert them all to strings, by using: =>>>>> X.columns = X.columns.astype(str)\n",
    "    X.columns = X.columns.astype(str)\n",
    "    \n",
    "    # Entrenar el modelo KNN\n",
    "    knn.fit(X)\n",
    "    \n",
    "    # Obtener la distancia y los índices de los vecinos más cercanos\n",
    "    distances, indices = knn.kneighbors(X.iloc[idx].values.reshape(1, -1))\n",
    "    \n",
    "    # Obtener los títulos de las películas más similares (excluyendo la película seleccionada)\n",
    "    similar_movies = df['title'].iloc[indices[0][1:6]]\n",
    "    \n",
    "    return similar_movies\n"
   ]
  },
  {
   "cell_type": "code",
   "execution_count": 26,
   "metadata": {},
   "outputs": [
    {
     "name": "stderr",
     "output_type": "stream",
     "text": [
      "c:\\Users\\TheFercho\\AppData\\Local\\Programs\\Python\\Python311\\Lib\\site-packages\\sklearn\\base.py:439: UserWarning: X does not have valid feature names, but NearestNeighbors was fitted with feature names\n",
      "  warnings.warn(\n"
     ]
    },
    {
     "data": {
      "text/plain": [
       "21128    Despicable Me 2\n",
       "15335        Toy Story 3\n",
       "4751      Monsters, Inc.\n",
       "11559        Ratatouille\n",
       "359        The Lion King\n",
       "Name: title, dtype: object"
      ]
     },
     "execution_count": 26,
     "metadata": {},
     "output_type": "execute_result"
    }
   ],
   "source": [
    "recomendacion_4('toy story')"
   ]
  }
 ],
 "metadata": {
  "kernelspec": {
   "display_name": "Python 3",
   "language": "python",
   "name": "python3"
  },
  "language_info": {
   "codemirror_mode": {
    "name": "ipython",
    "version": 3
   },
   "file_extension": ".py",
   "mimetype": "text/x-python",
   "name": "python",
   "nbconvert_exporter": "python",
   "pygments_lexer": "ipython3",
   "version": "3.11.3"
  },
  "orig_nbformat": 4
 },
 "nbformat": 4,
 "nbformat_minor": 2
}
