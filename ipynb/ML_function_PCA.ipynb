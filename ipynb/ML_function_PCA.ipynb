{
 "cells": [
  {
   "attachments": {},
   "cell_type": "markdown",
   "metadata": {},
   "source": [
    "### Armar un sistema de recomendación de películas. \n",
    "\n",
    "Éste consiste en recomendar películas a los usuarios basándose en películas similares, por lo que se debe encontrar la similitud de puntuación entre esa película y el resto de películas. \n",
    "\n",
    "Se ordenarán según el score de similaridad y devolverá:\n",
    "- una lista de Python con 5 valores, \n",
    "- cada uno siendo el string del nombre de las películas con mayor puntaje \n",
    "- en orden descendente."
   ]
  },
  {
   "cell_type": "code",
   "execution_count": 249,
   "metadata": {},
   "outputs": [],
   "source": [
    "import pandas as pd\n",
    "from sklearn.preprocessing import MultiLabelBinarizer\n",
    "from sklearn.decomposition import PCA\n",
    "from sklearn.neighbors import NearestNeighbors"
   ]
  },
  {
   "cell_type": "code",
   "execution_count": 376,
   "metadata": {},
   "outputs": [],
   "source": [
    "df = pd.read_csv('C:/Users/TheFercho/Desktop/SoyHenry/Labs/PI_TheFercho_labs/datasets/ML_dataset.csv')"
   ]
  },
  {
   "cell_type": "code",
   "execution_count": 377,
   "metadata": {},
   "outputs": [
    {
     "data": {
      "text/plain": [
       "Index(['id', 'title', 'genres', 'original_language', 'spoken_languages',\n",
       "       'popularity', 'production_companies', 'production_countries',\n",
       "       'release_year', 'vote_count', 'vote_average'],\n",
       "      dtype='object')"
      ]
     },
     "execution_count": 377,
     "metadata": {},
     "output_type": "execute_result"
    }
   ],
   "source": [
    "df.columns"
   ]
  },
  {
   "cell_type": "code",
   "execution_count": 378,
   "metadata": {},
   "outputs": [
    {
     "data": {
      "text/plain": [
       "id                      45344\n",
       "title                   45344\n",
       "genres                  45344\n",
       "original_language       45344\n",
       "spoken_languages        45344\n",
       "popularity              45344\n",
       "production_companies    45344\n",
       "production_countries    45344\n",
       "release_year            45344\n",
       "vote_count              45344\n",
       "vote_average            45344\n",
       "dtype: int64"
      ]
     },
     "execution_count": 378,
     "metadata": {},
     "output_type": "execute_result"
    }
   ],
   "source": [
    "df.notna().sum()"
   ]
  },
  {
   "cell_type": "code",
   "execution_count": 379,
   "metadata": {},
   "outputs": [
    {
     "data": {
      "text/plain": [
       "popularity      0\n",
       "vote_average    0\n",
       "vote_count      0\n",
       "genres          0\n",
       "dtype: int64"
      ]
     },
     "execution_count": 379,
     "metadata": {},
     "output_type": "execute_result"
    }
   ],
   "source": [
    "features = ['popularity', 'vote_average', 'vote_count', 'genres']\n",
    "X = df[features]\n",
    "missing_values = X.isnull().sum()\n",
    "missing_values"
   ]
  },
  {
   "cell_type": "code",
   "execution_count": 380,
   "metadata": {},
   "outputs": [
    {
     "data": {
      "text/plain": [
       "'Toy Story'"
      ]
     },
     "execution_count": 380,
     "metadata": {},
     "output_type": "execute_result"
    }
   ],
   "source": [
    "df.loc[0,'title']"
   ]
  },
  {
   "cell_type": "code",
   "execution_count": 381,
   "metadata": {},
   "outputs": [
    {
     "data": {
      "text/html": [
       "<div>\n",
       "<style scoped>\n",
       "    .dataframe tbody tr th:only-of-type {\n",
       "        vertical-align: middle;\n",
       "    }\n",
       "\n",
       "    .dataframe tbody tr th {\n",
       "        vertical-align: top;\n",
       "    }\n",
       "\n",
       "    .dataframe thead th {\n",
       "        text-align: right;\n",
       "    }\n",
       "</style>\n",
       "<table border=\"1\" class=\"dataframe\">\n",
       "  <thead>\n",
       "    <tr style=\"text-align: right;\">\n",
       "      <th></th>\n",
       "      <th>id</th>\n",
       "      <th>title</th>\n",
       "      <th>genres</th>\n",
       "      <th>original_language</th>\n",
       "      <th>spoken_languages</th>\n",
       "      <th>popularity</th>\n",
       "      <th>production_companies</th>\n",
       "      <th>production_countries</th>\n",
       "      <th>release_year</th>\n",
       "      <th>vote_count</th>\n",
       "      <th>vote_average</th>\n",
       "    </tr>\n",
       "  </thead>\n",
       "  <tbody>\n",
       "    <tr>\n",
       "      <th>585</th>\n",
       "      <td>268</td>\n",
       "      <td>Batman</td>\n",
       "      <td>Fantasy, Action</td>\n",
       "      <td>EN</td>\n",
       "      <td>['English', 'Français']</td>\n",
       "      <td>19.106730</td>\n",
       "      <td>['PolyGram Filmed Entertainment', 'The Guber-P...</td>\n",
       "      <td>['GB', 'US']</td>\n",
       "      <td>1989</td>\n",
       "      <td>2145</td>\n",
       "      <td>7.0</td>\n",
       "    </tr>\n",
       "    <tr>\n",
       "      <th>8597</th>\n",
       "      <td>2661</td>\n",
       "      <td>Batman</td>\n",
       "      <td>Family, Adventure, Comedy, Science Fiction, Crime</td>\n",
       "      <td>EN</td>\n",
       "      <td>['English']</td>\n",
       "      <td>8.991532</td>\n",
       "      <td>['Twentieth Century Fox Film Corporation', 'DC...</td>\n",
       "      <td>['US']</td>\n",
       "      <td>1966</td>\n",
       "      <td>209</td>\n",
       "      <td>6.1</td>\n",
       "    </tr>\n",
       "  </tbody>\n",
       "</table>\n",
       "</div>"
      ],
      "text/plain": [
       "        id   title                                             genres   \n",
       "585    268  Batman                                    Fantasy, Action  \\\n",
       "8597  2661  Batman  Family, Adventure, Comedy, Science Fiction, Crime   \n",
       "\n",
       "     original_language         spoken_languages  popularity   \n",
       "585                 EN  ['English', 'Français']   19.106730  \\\n",
       "8597                EN              ['English']    8.991532   \n",
       "\n",
       "                                   production_companies production_countries   \n",
       "585   ['PolyGram Filmed Entertainment', 'The Guber-P...         ['GB', 'US']  \\\n",
       "8597  ['Twentieth Century Fox Film Corporation', 'DC...               ['US']   \n",
       "\n",
       "      release_year  vote_count  vote_average  \n",
       "585           1989        2145           7.0  \n",
       "8597          1966         209           6.1  "
      ]
     },
     "execution_count": 381,
     "metadata": {},
     "output_type": "execute_result"
    }
   ],
   "source": [
    "df[df['title'] == 'Batman']"
   ]
  },
  {
   "cell_type": "code",
   "execution_count": 336,
   "metadata": {},
   "outputs": [],
   "source": [
    "#df[df.duplicated(subset='title', keep=False)]\n",
    "df.drop_duplicates(subset='title', keep='first', inplace=True)\n"
   ]
  },
  {
   "cell_type": "code",
   "execution_count": 382,
   "metadata": {},
   "outputs": [
    {
     "data": {
      "text/plain": [
       "array(['Animation, Comedy, Family', 'Adventure, Fantasy, Family',\n",
       "       'Romance, Comedy', ..., 'Crime, Comedy, Action, Family',\n",
       "       'Action, Mystery, Thriller, Horror',\n",
       "       'Family, Animation, Romance, Comedy'], dtype=object)"
      ]
     },
     "execution_count": 382,
     "metadata": {},
     "output_type": "execute_result"
    }
   ],
   "source": [
    "df.genres.unique()"
   ]
  },
  {
   "cell_type": "code",
   "execution_count": 383,
   "metadata": {},
   "outputs": [],
   "source": [
    "def recomendacion_4(titulo):\n",
    "            \n",
    "    # Obtener el índice de la película que coincide con el título ingresado (case insensitive)\n",
    "    indices = pd.Series(df.index, index=df['title'].str.lower()).drop_duplicates()\n",
    "    titulo_lower = titulo.lower()\n",
    "    \n",
    "    if titulo_lower not in indices:\n",
    "        return \"Título no encontrado\"\n",
    "    \n",
    "    idx = indices[titulo_lower][0]\n",
    "    \n",
    "    # Seleccionar las características relevantes para el algoritmo KNN\n",
    "    features = ['popularity', 'vote_average', 'vote_count', 'genres']\n",
    "    X = df[features]\n",
    "    \n",
    "    # Convertir las listas en columnas binarias utilizando MultiLabelBinarizer\n",
    "    mlb = MultiLabelBinarizer()\n",
    "    encoded_genres = pd.DataFrame(mlb.fit_transform(X['genres']), columns=mlb.classes_, index=X.index)\n",
    "    \n",
    "    # Convertir los nombres de características numéricas a cadenas\n",
    "    numeric_features = X.drop('genres', axis=1)\n",
    "    numeric_features.columns = numeric_features.columns.astype(str)\n",
    "    \n",
    "    # Aplicar PCA para reducir la dimensionalidad\n",
    "    #El PCA es una técnica de reducción de dimensionalidad que \n",
    "    # transforma un conjunto de variables correlacionadas en un conjunto más pequeño de variables no correlacionadas \n",
    "    # llamadas componentes principales.\n",
    "    pca = PCA(n_components=0.9)  # Mantenemos el 90% de la varianza explicada\n",
    "    encoded_genres_pca = pca.fit_transform(encoded_genres)\n",
    "    \n",
    "    # Concatenar las características numéricas y las características transformadas por PCA\n",
    "    X = pd.concat([numeric_features, pd.DataFrame(encoded_genres_pca)], axis=1)\n",
    "    \n",
    "    # Normalizar las características\n",
    "    X = (X - X.mean()) / X.std()\n",
    "    \n",
    "    # Crear una instancia del algoritmo KNN\n",
    "    knn = NearestNeighbors(n_neighbors=6)  # Consideramos 6 vecinos, incluyendo la película seleccionada\n",
    "    \n",
    "    # Resolvemos el siguiente error con la recomendacion de la propia libreria:  \n",
    "    # Feature names are only supported if all input features have string names, but your input has ['int', 'str'] \n",
    "    # as feature name / column name types. If you want feature names to be stored and validated, \n",
    "    # you must convert them all to strings, by using: =>>>>> X.columns = X.columns.astype(str)\n",
    "    X.columns = X.columns.astype(str)\n",
    "    \n",
    "    # Entrenar el modelo KNN\n",
    "    knn.fit(X)\n",
    "    \n",
    "    # Obtener la distancia y los índices de los vecinos más cercanos\n",
    "    distances, indices = knn.kneighbors(X.iloc[idx].values.reshape(1, -1))\n",
    "    \n",
    "    # Obtener los títulos de las películas más similares (excluyendo la película seleccionada)\n",
    "    similar_movies = df['title'].iloc[indices[0][1:6]]\n",
    "    \n",
    "    return similar_movies"
   ]
  },
  {
   "cell_type": "code",
   "execution_count": 384,
   "metadata": {},
   "outputs": [
    {
     "name": "stderr",
     "output_type": "stream",
     "text": [
      "c:\\Users\\TheFercho\\AppData\\Local\\Programs\\Python\\Python311\\Lib\\site-packages\\sklearn\\base.py:439: UserWarning: X does not have valid feature names, but NearestNeighbors was fitted with feature names\n",
      "  warnings.warn(\n"
     ]
    },
    {
     "data": {
      "text/plain": [
       "1326                      Batman Returns\n",
       "546       The Nightmare Before Christmas\n",
       "12697                            Hancock\n",
       "587      Snow White and the Seven Dwarfs\n",
       "5828                  My Neighbor Totoro\n",
       "Name: title, dtype: object"
      ]
     },
     "execution_count": 384,
     "metadata": {},
     "output_type": "execute_result"
    }
   ],
   "source": [
    "recomendacion_4('Batman')"
   ]
  },
  {
   "cell_type": "code",
   "execution_count": null,
   "metadata": {},
   "outputs": [],
   "source": [
    "def recomendacion_4(titulo):\n",
    "            \n",
    "    # Obtener el índice de la película que coincide con el título ingresado (case insensitive)\n",
    "    indices = pd.Series(df.index, index=df['title'].str.lower()).drop_duplicates()\n",
    "    return indices"
   ]
  },
  {
   "cell_type": "code",
   "execution_count": 366,
   "metadata": {},
   "outputs": [],
   "source": [
    "import pandas as pd\n",
    "from sklearn.impute import KNNImputer\n",
    "from sklearn.preprocessing import MultiLabelBinarizer\n",
    "from sklearn.decomposition import PCA\n",
    "from sklearn.neighbors import NearestNeighbors\n",
    "\n",
    "def recomendacion(id_pelicula):\n",
    "    # Cargar el dataframe\n",
    "    \n",
    "    # Eliminar los títulos duplicados en la columna 'title' (si no lo has hecho ya)\n",
    "    df.drop_duplicates(subset='title', keep='first', inplace=True)\n",
    "    \n",
    "    # Verificar si hay valores faltantes en las columnas 'budget', 'revenue' y 'runtime'\n",
    "    missing_values = df[['budget', 'revenue', 'runtime']].isnull().any()\n",
    "    \n",
    "    if missing_values.any():\n",
    "        # Imputar los valores faltantes utilizando KNNImputer\n",
    "        imputer = KNNImputer(n_neighbors=5)  # Puedes ajustar el número de vecinos según tu preferencia\n",
    "        df[['budget', 'revenue', 'runtime']] = imputer.fit_transform(df[['budget', 'revenue', 'runtime']])\n",
    "    \n",
    "    # Obtener el índice de la película que coincide con el ID ingresado\n",
    "    indices = pd.Series(df.index, index=df['id']).drop_duplicates()\n",
    "    \n",
    "    if id_pelicula not in indices:\n",
    "        return \"ID de película no encontrado\"\n",
    "    \n",
    "    idx = indices[id_pelicula]\n",
    "    \n",
    "    # Seleccionar las características relevantes para el algoritmo KNN\n",
    "    features = ['popularity', 'vote_average', 'vote_count', 'genres','budget', 'revenue', 'runtime']\n",
    "    X = df[features]\n",
    "    \n",
    "    # Convertir las listas en columnas binarias utilizando MultiLabelBinarizer\n",
    "    mlb = MultiLabelBinarizer()\n",
    "    encoded_genres = pd.DataFrame(mlb.fit_transform(X['genres']), columns=mlb.classes_, index=X.index)\n",
    "    \n",
    "    # Convertir los nombres de características numéricas a cadenas\n",
    "    numeric_features = X.drop('genres', axis=1)\n",
    "    numeric_features.columns = numeric_features.columns.astype(str)\n",
    "    \n",
    "    # Aplicar PCA para reducir la dimensionalidad\n",
    "    pca = PCA(n_components=0.9)  # Mantenemos el 90% de la varianza explicada\n",
    "    encoded_genres_pca = pca.fit_transform(encoded_genres)\n",
    "    \n",
    "    # Concatenar las características numéricas y las características transformadas por PCA\n",
    "    X = pd.concat([numeric_features, pd.DataFrame(encoded_genres_pca)], axis=1)\n",
    "    \n",
    "    # Normalizar las características\n",
    "    X = (X - X.mean()) / X.std()\n",
    "    \n",
    "    # Crear una instancia del algoritmo KNN\n",
    "    knn = NearestNeighbors(n_neighbors=6)  # Consideramos 6 vecinos, incluyendo la película seleccionada\n",
    "    \n",
    "    # Resolvemos el siguiente error con la recomendacion de la propia libreria:  \n",
    "    # Feature names are only supported if all input features have string names, but your input has ['int', 'str'] \n",
    "    # as feature name / column name types. If you want feature names to be stored and validated, \n",
    "    # you must convert them all to strings, by using: =>>>>> X.columns = X.columns.astype(str)\n",
    "    X.columns = X.columns.astype(str)\n",
    "    \n",
    "    # Entrenar el modelo KNN\n",
    "    knn.fit(X)\n",
    "    \n",
    "    # Obtener la\n",
    "    similar_movies = df['title'].iloc[indices[0][1:6]]\n",
    "    \n",
    "    return similar_movies"
   ]
  },
  {
   "cell_type": "code",
   "execution_count": 367,
   "metadata": {},
   "outputs": [
    {
     "ename": "KeyError",
     "evalue": "\"None of [Index(['budget', 'revenue', 'runtime'], dtype='object')] are in the [columns]\"",
     "output_type": "error",
     "traceback": [
      "\u001b[1;31m---------------------------------------------------------------------------\u001b[0m",
      "\u001b[1;31mKeyError\u001b[0m                                  Traceback (most recent call last)",
      "Cell \u001b[1;32mIn[367], line 1\u001b[0m\n\u001b[1;32m----> 1\u001b[0m recomendacion(\u001b[39m'\u001b[39;49m\u001b[39mBatman\u001b[39;49m\u001b[39m'\u001b[39;49m)\n",
      "Cell \u001b[1;32mIn[366], line 14\u001b[0m, in \u001b[0;36mrecomendacion\u001b[1;34m(id_pelicula)\u001b[0m\n\u001b[0;32m     11\u001b[0m df\u001b[39m.\u001b[39mdrop_duplicates(subset\u001b[39m=\u001b[39m\u001b[39m'\u001b[39m\u001b[39mtitle\u001b[39m\u001b[39m'\u001b[39m, keep\u001b[39m=\u001b[39m\u001b[39m'\u001b[39m\u001b[39mfirst\u001b[39m\u001b[39m'\u001b[39m, inplace\u001b[39m=\u001b[39m\u001b[39mTrue\u001b[39;00m)\n\u001b[0;32m     13\u001b[0m \u001b[39m# Verificar si hay valores faltantes en las columnas 'budget', 'revenue' y 'runtime'\u001b[39;00m\n\u001b[1;32m---> 14\u001b[0m missing_values \u001b[39m=\u001b[39m df[[\u001b[39m'\u001b[39;49m\u001b[39mbudget\u001b[39;49m\u001b[39m'\u001b[39;49m, \u001b[39m'\u001b[39;49m\u001b[39mrevenue\u001b[39;49m\u001b[39m'\u001b[39;49m, \u001b[39m'\u001b[39;49m\u001b[39mruntime\u001b[39;49m\u001b[39m'\u001b[39;49m]]\u001b[39m.\u001b[39misnull()\u001b[39m.\u001b[39many()\n\u001b[0;32m     16\u001b[0m \u001b[39mif\u001b[39;00m missing_values\u001b[39m.\u001b[39many():\n\u001b[0;32m     17\u001b[0m     \u001b[39m# Imputar los valores faltantes utilizando KNNImputer\u001b[39;00m\n\u001b[0;32m     18\u001b[0m     imputer \u001b[39m=\u001b[39m KNNImputer(n_neighbors\u001b[39m=\u001b[39m\u001b[39m5\u001b[39m)  \u001b[39m# Puedes ajustar el número de vecinos según tu preferencia\u001b[39;00m\n",
      "File \u001b[1;32mc:\\Users\\TheFercho\\AppData\\Local\\Programs\\Python\\Python311\\Lib\\site-packages\\pandas\\core\\frame.py:3767\u001b[0m, in \u001b[0;36mDataFrame.__getitem__\u001b[1;34m(self, key)\u001b[0m\n\u001b[0;32m   3765\u001b[0m     \u001b[39mif\u001b[39;00m is_iterator(key):\n\u001b[0;32m   3766\u001b[0m         key \u001b[39m=\u001b[39m \u001b[39mlist\u001b[39m(key)\n\u001b[1;32m-> 3767\u001b[0m     indexer \u001b[39m=\u001b[39m \u001b[39mself\u001b[39;49m\u001b[39m.\u001b[39;49mcolumns\u001b[39m.\u001b[39;49m_get_indexer_strict(key, \u001b[39m\"\u001b[39;49m\u001b[39mcolumns\u001b[39;49m\u001b[39m\"\u001b[39;49m)[\u001b[39m1\u001b[39m]\n\u001b[0;32m   3769\u001b[0m \u001b[39m# take() does not accept boolean indexers\u001b[39;00m\n\u001b[0;32m   3770\u001b[0m \u001b[39mif\u001b[39;00m \u001b[39mgetattr\u001b[39m(indexer, \u001b[39m\"\u001b[39m\u001b[39mdtype\u001b[39m\u001b[39m\"\u001b[39m, \u001b[39mNone\u001b[39;00m) \u001b[39m==\u001b[39m \u001b[39mbool\u001b[39m:\n",
      "File \u001b[1;32mc:\\Users\\TheFercho\\AppData\\Local\\Programs\\Python\\Python311\\Lib\\site-packages\\pandas\\core\\indexes\\base.py:5876\u001b[0m, in \u001b[0;36mIndex._get_indexer_strict\u001b[1;34m(self, key, axis_name)\u001b[0m\n\u001b[0;32m   5873\u001b[0m \u001b[39melse\u001b[39;00m:\n\u001b[0;32m   5874\u001b[0m     keyarr, indexer, new_indexer \u001b[39m=\u001b[39m \u001b[39mself\u001b[39m\u001b[39m.\u001b[39m_reindex_non_unique(keyarr)\n\u001b[1;32m-> 5876\u001b[0m \u001b[39mself\u001b[39;49m\u001b[39m.\u001b[39;49m_raise_if_missing(keyarr, indexer, axis_name)\n\u001b[0;32m   5878\u001b[0m keyarr \u001b[39m=\u001b[39m \u001b[39mself\u001b[39m\u001b[39m.\u001b[39mtake(indexer)\n\u001b[0;32m   5879\u001b[0m \u001b[39mif\u001b[39;00m \u001b[39misinstance\u001b[39m(key, Index):\n\u001b[0;32m   5880\u001b[0m     \u001b[39m# GH 42790 - Preserve name from an Index\u001b[39;00m\n",
      "File \u001b[1;32mc:\\Users\\TheFercho\\AppData\\Local\\Programs\\Python\\Python311\\Lib\\site-packages\\pandas\\core\\indexes\\base.py:5935\u001b[0m, in \u001b[0;36mIndex._raise_if_missing\u001b[1;34m(self, key, indexer, axis_name)\u001b[0m\n\u001b[0;32m   5933\u001b[0m     \u001b[39mif\u001b[39;00m use_interval_msg:\n\u001b[0;32m   5934\u001b[0m         key \u001b[39m=\u001b[39m \u001b[39mlist\u001b[39m(key)\n\u001b[1;32m-> 5935\u001b[0m     \u001b[39mraise\u001b[39;00m \u001b[39mKeyError\u001b[39;00m(\u001b[39mf\u001b[39m\u001b[39m\"\u001b[39m\u001b[39mNone of [\u001b[39m\u001b[39m{\u001b[39;00mkey\u001b[39m}\u001b[39;00m\u001b[39m] are in the [\u001b[39m\u001b[39m{\u001b[39;00maxis_name\u001b[39m}\u001b[39;00m\u001b[39m]\u001b[39m\u001b[39m\"\u001b[39m)\n\u001b[0;32m   5937\u001b[0m not_found \u001b[39m=\u001b[39m \u001b[39mlist\u001b[39m(ensure_index(key)[missing_mask\u001b[39m.\u001b[39mnonzero()[\u001b[39m0\u001b[39m]]\u001b[39m.\u001b[39munique())\n\u001b[0;32m   5938\u001b[0m \u001b[39mraise\u001b[39;00m \u001b[39mKeyError\u001b[39;00m(\u001b[39mf\u001b[39m\u001b[39m\"\u001b[39m\u001b[39m{\u001b[39;00mnot_found\u001b[39m}\u001b[39;00m\u001b[39m not in index\u001b[39m\u001b[39m\"\u001b[39m)\n",
      "\u001b[1;31mKeyError\u001b[0m: \"None of [Index(['budget', 'revenue', 'runtime'], dtype='object')] are in the [columns]\""
     ]
    }
   ],
   "source": [
    "recomendacion('Batman')"
   ]
  }
 ],
 "metadata": {
  "kernelspec": {
   "display_name": "Python 3",
   "language": "python",
   "name": "python3"
  },
  "language_info": {
   "codemirror_mode": {
    "name": "ipython",
    "version": 3
   },
   "file_extension": ".py",
   "mimetype": "text/x-python",
   "name": "python",
   "nbconvert_exporter": "python",
   "pygments_lexer": "ipython3",
   "version": "3.11.3"
  },
  "orig_nbformat": 4
 },
 "nbformat": 4,
 "nbformat_minor": 2
}
