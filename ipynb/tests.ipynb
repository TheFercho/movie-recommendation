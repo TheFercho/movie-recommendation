{
 "cells": [
  {
   "cell_type": "code",
   "execution_count": 164,
   "metadata": {},
   "outputs": [],
   "source": [
    "import pandas as pd"
   ]
  },
  {
   "cell_type": "code",
   "execution_count": 165,
   "metadata": {},
   "outputs": [],
   "source": [
    "df = pd.read_csv('dataset_test_ML.csv')"
   ]
  },
  {
   "cell_type": "code",
   "execution_count": 166,
   "metadata": {},
   "outputs": [
    {
     "data": {
      "text/plain": [
       "Index(['id', 'title', 'genres', 'cast', 'release_year', 'first_actors',\n",
       "       'top_actors_str'],\n",
       "      dtype='object')"
      ]
     },
     "execution_count": 166,
     "metadata": {},
     "output_type": "execute_result"
    }
   ],
   "source": [
    "df.columns"
   ]
  },
  {
   "cell_type": "code",
   "execution_count": 167,
   "metadata": {},
   "outputs": [
    {
     "data": {
      "text/html": [
       "<div>\n",
       "<style scoped>\n",
       "    .dataframe tbody tr th:only-of-type {\n",
       "        vertical-align: middle;\n",
       "    }\n",
       "\n",
       "    .dataframe tbody tr th {\n",
       "        vertical-align: top;\n",
       "    }\n",
       "\n",
       "    .dataframe thead th {\n",
       "        text-align: right;\n",
       "    }\n",
       "</style>\n",
       "<table border=\"1\" class=\"dataframe\">\n",
       "  <thead>\n",
       "    <tr style=\"text-align: right;\">\n",
       "      <th></th>\n",
       "      <th>id</th>\n",
       "      <th>title</th>\n",
       "      <th>genres</th>\n",
       "      <th>cast</th>\n",
       "      <th>release_year</th>\n",
       "      <th>first_actors</th>\n",
       "      <th>top_actors_str</th>\n",
       "    </tr>\n",
       "  </thead>\n",
       "  <tbody>\n",
       "  </tbody>\n",
       "</table>\n",
       "</div>"
      ],
      "text/plain": [
       "Empty DataFrame\n",
       "Columns: [id, title, genres, cast, release_year, first_actors, top_actors_str]\n",
       "Index: []"
      ]
     },
     "execution_count": 167,
     "metadata": {},
     "output_type": "execute_result"
    }
   ],
   "source": [
    "df[df.duplicated(subset='title',keep=False)]"
   ]
  },
  {
   "cell_type": "code",
   "execution_count": 104,
   "metadata": {},
   "outputs": [],
   "source": [
    "df.drop_duplicates(subset='title',keep='first',inplace=True)"
   ]
  },
  {
   "cell_type": "code",
   "execution_count": 168,
   "metadata": {},
   "outputs": [
    {
     "name": "stdout",
     "output_type": "stream",
     "text": [
      "<class 'pandas.core.frame.DataFrame'>\n",
      "RangeIndex: 42192 entries, 0 to 42191\n",
      "Data columns (total 7 columns):\n",
      " #   Column          Non-Null Count  Dtype \n",
      "---  ------          --------------  ----- \n",
      " 0   id              42192 non-null  int64 \n",
      " 1   title           42192 non-null  object\n",
      " 2   genres          42192 non-null  object\n",
      " 3   cast            42192 non-null  object\n",
      " 4   release_year    42192 non-null  int64 \n",
      " 5   first_actors    42192 non-null  object\n",
      " 6   top_actors_str  39954 non-null  object\n",
      "dtypes: int64(2), object(5)\n",
      "memory usage: 2.3+ MB\n"
     ]
    }
   ],
   "source": [
    "df.info()"
   ]
  },
  {
   "cell_type": "code",
   "execution_count": 60,
   "metadata": {},
   "outputs": [],
   "source": [
    "#df.to_csv('dataset_test_ML.csv',index=False)"
   ]
  },
  {
   "cell_type": "code",
   "execution_count": 69,
   "metadata": {},
   "outputs": [],
   "source": [
    "#df['genres']=pd.Categorical(df['genres']).codes"
   ]
  },
  {
   "cell_type": "code",
   "execution_count": 71,
   "metadata": {},
   "outputs": [],
   "source": [
    "#df['genres']=df.genres.astype(str)"
   ]
  },
  {
   "cell_type": "code",
   "execution_count": 155,
   "metadata": {},
   "outputs": [],
   "source": [
    "import ast\n",
    "\n",
    "# Definir una función para extraer los primeros tres actores de cada registro\n",
    "def extract_actors(cast):\n",
    "    cast_list = ast.literal_eval(cast)  # Convertir la cadena en una lista\n",
    "    return cast_list[:3]  # Devolver los primeros tres elementos de la lista\n",
    "\n",
    "# Aplicar la función a la columna 'cast' y crear una nueva columna 'first_actors'\n",
    "df['first_actors'] = df['cast'].apply(extract_actors)\n"
   ]
  },
  {
   "cell_type": "code",
   "execution_count": 169,
   "metadata": {},
   "outputs": [
    {
     "data": {
      "text/plain": [
       "str"
      ]
     },
     "execution_count": 169,
     "metadata": {},
     "output_type": "execute_result"
    }
   ],
   "source": [
    "type(df.first_actors[0])"
   ]
  },
  {
   "cell_type": "code",
   "execution_count": 157,
   "metadata": {},
   "outputs": [],
   "source": [
    "#df['top_actors_str']=df['first_actors'].astype(str)"
   ]
  },
  {
   "cell_type": "code",
   "execution_count": 170,
   "metadata": {},
   "outputs": [
    {
     "data": {
      "text/plain": [
       "'Tom Hanks, Tim Allen, Don Rickles'"
      ]
     },
     "execution_count": 170,
     "metadata": {},
     "output_type": "execute_result"
    }
   ],
   "source": [
    "df.top_actors_str[0]"
   ]
  },
  {
   "cell_type": "code",
   "execution_count": 159,
   "metadata": {},
   "outputs": [],
   "source": [
    "#df['top_actors_str'] = df['top_actors_str'].str.replace('[', '').str.replace(']', '')\n",
    "#df['top_actors_str'] = df['top_actors_str'].str.replace(\"'\", \"\").str.replace(\"'\", \"\")\n",
    "#df['top_actors_str']=df['top_actors_str'].fillna('ND')"
   ]
  },
  {
   "cell_type": "code",
   "execution_count": 163,
   "metadata": {},
   "outputs": [],
   "source": [
    "#df.to_csv('dataset_test_ML.csv',index=False)"
   ]
  },
  {
   "cell_type": "code",
   "execution_count": 194,
   "metadata": {},
   "outputs": [],
   "source": [
    "import pandas as pd\n",
    "from sklearn.preprocessing import MultiLabelBinarizer\n",
    "from sklearn.decomposition import PCA\n",
    "from sklearn.neighbors import NearestNeighbors\n",
    "\n",
    "def recomendacion_4(titulo):\n",
    "            \n",
    "    # Obtener el índice de la película que coincide con el título ingresado (case insensitive)\n",
    "    indices = pd.Series(df.index, index=df['title'].str.lower()).drop_duplicates()\n",
    "    titulo_lower = titulo.lower()\n",
    "    \n",
    "    if titulo_lower not in indices:\n",
    "        return \"Título no encontrado\"\n",
    "    \n",
    "    idx = indices[titulo_lower]\n",
    "    \n",
    "    # Seleccionar las características relevantes para el algoritmo KNN\n",
    "    features = ['genres']\n",
    "    X = df[features]\n",
    "    \n",
    "    # Convertir las listas en columnas binarias utilizando MultiLabelBinarizer\n",
    "    mlb = MultiLabelBinarizer()\n",
    "    encoded_genres = pd.DataFrame(mlb.fit_transform(X['genres']), columns=mlb.classes_, index=X.index)\n",
    "    \n",
    "    # Convertir los nombres de características numéricas a cadenas\n",
    "    numeric_features = X.drop('genres', axis=1)\n",
    "    numeric_features.columns = numeric_features.columns.astype(str)\n",
    "    \n",
    "    # Aplicar PCA para reducir la dimensionalidad\n",
    "    #El PCA es una técnica de reducción de dimensionalidad que \n",
    "    # transforma un conjunto de variables correlacionadas en un conjunto más pequeño de variables no correlacionadas \n",
    "    # llamadas componentes principales.\n",
    "    pca = PCA(n_components=0.6)  # Mantenemos el 60% de la varianza explicada\n",
    "    encoded_genres_pca = pca.fit_transform(encoded_genres)\n",
    "    \n",
    "    # Concatenar las características numéricas y las características transformadas por PCA\n",
    "    X = pd.concat([numeric_features, pd.DataFrame(encoded_genres_pca)], axis=1)\n",
    "    \n",
    "    # Normalizar las características\n",
    "    X = (X - X.mean()) / X.std()\n",
    "    \n",
    "    # Crear una instancia del algoritmo KNN\n",
    "    knn = NearestNeighbors(n_neighbors=6)  # Consideramos 6 vecinos, incluyendo la película seleccionada\n",
    "    \n",
    "    # Resolvemos el siguiente error con la recomendacion de la propia libreria:  \n",
    "    # Feature names are only supported if all input features have string names, but your input has ['int', 'str'] \n",
    "    # as feature name / column name types. If you want feature names to be stored and validated, \n",
    "    # you must convert them all to strings, by using: =>>>>> X.columns = X.columns.astype(str)\n",
    "    #X.columns = X.columns.astype(str)\n",
    "    \n",
    "    # Entrenar el modelo KNN\n",
    "    knn.fit(X)\n",
    "    \n",
    "    # Obtener la distancia y los índices de los vecinos más cercanos\n",
    "    distances, indices = knn.kneighbors(X.iloc[idx].values.reshape(1, -1))\n",
    "    \n",
    "    # Obtener los títulos de las películas más similares (excluyendo la película seleccionada)\n",
    "    similar_movies = df['title'].iloc[indices[0][1:6]]\n",
    "    \n",
    "    return similar_movies"
   ]
  },
  {
   "cell_type": "code",
   "execution_count": 199,
   "metadata": {},
   "outputs": [
    {
     "data": {
      "text/plain": [
       "15278                                       Big Buck Bunny\n",
       "1349                       Beavis and Butt-Head Do America\n",
       "10052    Family Guy Presents Stewie Griffin: The Untold...\n",
       "12920                 Futurama: Into the Wild Green Yonder\n",
       "21841                                     The Cat Concerto\n",
       "Name: title, dtype: object"
      ]
     },
     "execution_count": 199,
     "metadata": {},
     "output_type": "execute_result"
    }
   ],
   "source": [
    "recomendacion_4('Happy feet')"
   ]
  }
 ],
 "metadata": {
  "kernelspec": {
   "display_name": "Python 3",
   "language": "python",
   "name": "python3"
  },
  "language_info": {
   "codemirror_mode": {
    "name": "ipython",
    "version": 3
   },
   "file_extension": ".py",
   "mimetype": "text/x-python",
   "name": "python",
   "nbconvert_exporter": "python",
   "pygments_lexer": "ipython3",
   "version": "3.11.3"
  },
  "orig_nbformat": 4
 },
 "nbformat": 4,
 "nbformat_minor": 2
}
