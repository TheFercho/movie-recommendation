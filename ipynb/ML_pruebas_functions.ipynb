{
 "cells": [
  {
   "attachments": {},
   "cell_type": "markdown",
   "metadata": {},
   "source": [
    "### Armar un sistema de recomendación de películas. \n",
    "\n",
    "Éste consiste en recomendar películas a los usuarios basándose en películas similares, por lo que se debe encontrar la similitud de puntuación entre esa película y el resto de películas. \n",
    "\n",
    "Se ordenarán según el score de similaridad y devolverá:\n",
    "- una lista de Python con 5 valores, \n",
    "- cada uno siendo el string del nombre de las películas con mayor puntaje \n",
    "- en orden descendente."
   ]
  },
  {
   "cell_type": "code",
   "execution_count": 21,
   "metadata": {},
   "outputs": [],
   "source": [
    "import pandas as pd\n",
    "from datetime import datetime"
   ]
  },
  {
   "cell_type": "code",
   "execution_count": 48,
   "metadata": {},
   "outputs": [],
   "source": [
    "df = pd.read_csv('merged_movies_credits.csv')"
   ]
  },
  {
   "cell_type": "code",
   "execution_count": 44,
   "metadata": {},
   "outputs": [],
   "source": [
    "df2 = pd.read_csv('ML_dataset.csv')"
   ]
  },
  {
   "cell_type": "code",
   "execution_count": 49,
   "metadata": {},
   "outputs": [
    {
     "data": {
      "text/plain": [
       "Index(['budget', 'genres', 'id', 'original_language', 'popularity',\n",
       "       'production_companies', 'production_countries', 'release_date',\n",
       "       'revenue', 'runtime', 'spoken_languages', 'title', 'vote_average',\n",
       "       'vote_count', 'return', 'release_year', 'release_day', 'cast',\n",
       "       'director_name', 'crew'],\n",
       "      dtype='object')"
      ]
     },
     "execution_count": 49,
     "metadata": {},
     "output_type": "execute_result"
    }
   ],
   "source": [
    "df.columns"
   ]
  },
  {
   "cell_type": "code",
   "execution_count": 45,
   "metadata": {},
   "outputs": [
    {
     "data": {
      "text/plain": [
       "Index(['id', 'title', 'genres', 'original_language', 'spoken_languages',\n",
       "       'popularity', 'production_companies', 'production_countries',\n",
       "       'release_year', 'vote_count', 'vote_average'],\n",
       "      dtype='object')"
      ]
     },
     "execution_count": 45,
     "metadata": {},
     "output_type": "execute_result"
    }
   ],
   "source": [
    "df2.columns"
   ]
  },
  {
   "cell_type": "code",
   "execution_count": 46,
   "metadata": {},
   "outputs": [
    {
     "name": "stdout",
     "output_type": "stream",
     "text": [
      "<class 'pandas.core.frame.DataFrame'>\n",
      "RangeIndex: 45344 entries, 0 to 45343\n",
      "Data columns (total 11 columns):\n",
      " #   Column                Non-Null Count  Dtype  \n",
      "---  ------                --------------  -----  \n",
      " 0   id                    45344 non-null  int64  \n",
      " 1   title                 45344 non-null  object \n",
      " 2   genres                45344 non-null  object \n",
      " 3   original_language     45344 non-null  object \n",
      " 4   spoken_languages      45344 non-null  object \n",
      " 5   popularity            45344 non-null  float64\n",
      " 6   production_companies  45344 non-null  object \n",
      " 7   production_countries  45344 non-null  object \n",
      " 8   release_year          45344 non-null  int64  \n",
      " 9   vote_count            45344 non-null  int64  \n",
      " 10  vote_average          45344 non-null  float64\n",
      "dtypes: float64(2), int64(3), object(6)\n",
      "memory usage: 3.8+ MB\n"
     ]
    }
   ],
   "source": [
    "df2.info()"
   ]
  },
  {
   "cell_type": "code",
   "execution_count": 67,
   "metadata": {},
   "outputs": [],
   "source": [
    "# podemos utilizar técnicas de procesamiento de lenguaje natural (NLP) y medidas de similitud \n",
    "# para encontrar películas similares.\n",
    "\n",
    "from sklearn.feature_extraction.text import TfidfVectorizer\n",
    "from sklearn.metrics.pairwise import linear_kernel\n",
    "\n",
    "def recomendacion(titulo):\n",
    "    \n",
    "    # Crear un vectorizador TF-IDF para convertir las sinopsis de las películas en vectores numéricos\n",
    "    tfidf = TfidfVectorizer(stop_words='english')\n",
    "    df2['overview'] = df2['overview'].fillna('')  # Asegurarse de que no haya valores nulos en la columna 'overview'\n",
    "    tfidf_matrix = tfidf.fit_transform(df2['overview'])\n",
    "    \n",
    "    # Calcular las similitudes de coseno entre todas las películas\n",
    "    cosine_similarities = linear_kernel(tfidf_matrix, tfidf_matrix)\n",
    "    \n",
    "    # Obtener el índice de la película que coincide con el título ingresado\n",
    "    indices = pd.Series(df2.index, index=df2['title']).drop_duplicates()\n",
    "    idx = indices[titulo]\n",
    "    \n",
    "    # Calcular las similitudes de coseno entre la película seleccionada y todas las demás películas\n",
    "    sim_scores = list(enumerate(cosine_similarities[idx]))\n",
    "    \n",
    "    # Ordenar las películas según su similitud\n",
    "    sim_scores = sorted(sim_scores, key=lambda x: x[1], reverse=True)\n",
    "    \n",
    "    # Obtener los índices de las 5 películas más similares (excluyendo la película seleccionada)\n",
    "    similar_indices = [i[0] for i in sim_scores[1:6]]\n",
    "    \n",
    "    # Obtener los títulos de las películas más similares\n",
    "    similar_movies = df2['title'].iloc[similar_indices]\n",
    "    \n",
    "    return similar_movies\n"
   ]
  },
  {
   "cell_type": "code",
   "execution_count": null,
   "metadata": {},
   "outputs": [],
   "source": [
    "recomendacion('Toy Story')"
   ]
  },
  {
   "cell_type": "code",
   "execution_count": 60,
   "metadata": {},
   "outputs": [],
   "source": [
    "# Crear una instancia de OneHotEncoder y especificar los géneros más relevantes\n",
    "top_genres = ['Action', 'Adventure', 'Comedy', 'Drama', 'Fantasy', 'Romance', 'Sci-Fi', 'Thriller', 'Family', 'Animation']\n",
    "#encoder = OneHotEncoder(categories=[top_genres])"
   ]
  },
  {
   "cell_type": "code",
   "execution_count": 62,
   "metadata": {},
   "outputs": [
    {
     "data": {
      "text/html": [
       "<style>#sk-container-id-1 {color: black;background-color: white;}#sk-container-id-1 pre{padding: 0;}#sk-container-id-1 div.sk-toggleable {background-color: white;}#sk-container-id-1 label.sk-toggleable__label {cursor: pointer;display: block;width: 100%;margin-bottom: 0;padding: 0.3em;box-sizing: border-box;text-align: center;}#sk-container-id-1 label.sk-toggleable__label-arrow:before {content: \"▸\";float: left;margin-right: 0.25em;color: #696969;}#sk-container-id-1 label.sk-toggleable__label-arrow:hover:before {color: black;}#sk-container-id-1 div.sk-estimator:hover label.sk-toggleable__label-arrow:before {color: black;}#sk-container-id-1 div.sk-toggleable__content {max-height: 0;max-width: 0;overflow: hidden;text-align: left;background-color: #f0f8ff;}#sk-container-id-1 div.sk-toggleable__content pre {margin: 0.2em;color: black;border-radius: 0.25em;background-color: #f0f8ff;}#sk-container-id-1 input.sk-toggleable__control:checked~div.sk-toggleable__content {max-height: 200px;max-width: 100%;overflow: auto;}#sk-container-id-1 input.sk-toggleable__control:checked~label.sk-toggleable__label-arrow:before {content: \"▾\";}#sk-container-id-1 div.sk-estimator input.sk-toggleable__control:checked~label.sk-toggleable__label {background-color: #d4ebff;}#sk-container-id-1 div.sk-label input.sk-toggleable__control:checked~label.sk-toggleable__label {background-color: #d4ebff;}#sk-container-id-1 input.sk-hidden--visually {border: 0;clip: rect(1px 1px 1px 1px);clip: rect(1px, 1px, 1px, 1px);height: 1px;margin: -1px;overflow: hidden;padding: 0;position: absolute;width: 1px;}#sk-container-id-1 div.sk-estimator {font-family: monospace;background-color: #f0f8ff;border: 1px dotted black;border-radius: 0.25em;box-sizing: border-box;margin-bottom: 0.5em;}#sk-container-id-1 div.sk-estimator:hover {background-color: #d4ebff;}#sk-container-id-1 div.sk-parallel-item::after {content: \"\";width: 100%;border-bottom: 1px solid gray;flex-grow: 1;}#sk-container-id-1 div.sk-label:hover label.sk-toggleable__label {background-color: #d4ebff;}#sk-container-id-1 div.sk-serial::before {content: \"\";position: absolute;border-left: 1px solid gray;box-sizing: border-box;top: 0;bottom: 0;left: 50%;z-index: 0;}#sk-container-id-1 div.sk-serial {display: flex;flex-direction: column;align-items: center;background-color: white;padding-right: 0.2em;padding-left: 0.2em;position: relative;}#sk-container-id-1 div.sk-item {position: relative;z-index: 1;}#sk-container-id-1 div.sk-parallel {display: flex;align-items: stretch;justify-content: center;background-color: white;position: relative;}#sk-container-id-1 div.sk-item::before, #sk-container-id-1 div.sk-parallel-item::before {content: \"\";position: absolute;border-left: 1px solid gray;box-sizing: border-box;top: 0;bottom: 0;left: 50%;z-index: -1;}#sk-container-id-1 div.sk-parallel-item {display: flex;flex-direction: column;z-index: 1;position: relative;background-color: white;}#sk-container-id-1 div.sk-parallel-item:first-child::after {align-self: flex-end;width: 50%;}#sk-container-id-1 div.sk-parallel-item:last-child::after {align-self: flex-start;width: 50%;}#sk-container-id-1 div.sk-parallel-item:only-child::after {width: 0;}#sk-container-id-1 div.sk-dashed-wrapped {border: 1px dashed gray;margin: 0 0.4em 0.5em 0.4em;box-sizing: border-box;padding-bottom: 0.4em;background-color: white;}#sk-container-id-1 div.sk-label label {font-family: monospace;font-weight: bold;display: inline-block;line-height: 1.2em;}#sk-container-id-1 div.sk-label-container {text-align: center;}#sk-container-id-1 div.sk-container {/* jupyter's `normalize.less` sets `[hidden] { display: none; }` but bootstrap.min.css set `[hidden] { display: none !important; }` so we also need the `!important` here to be able to override the default hidden behavior on the sphinx rendered scikit-learn.org. See: https://github.com/scikit-learn/scikit-learn/issues/21755 */display: inline-block !important;position: relative;}#sk-container-id-1 div.sk-text-repr-fallback {display: none;}</style><div id=\"sk-container-id-1\" class=\"sk-top-container\"><div class=\"sk-text-repr-fallback\"><pre>OneHotEncoder(categories=[[&#x27;Action&#x27;, &#x27;Adventure&#x27;, &#x27;Comedy&#x27;, &#x27;Drama&#x27;, &#x27;Fantasy&#x27;,\n",
       "                           &#x27;Romance&#x27;, &#x27;Sci-Fi&#x27;, &#x27;Thriller&#x27;, &#x27;Family&#x27;,\n",
       "                           &#x27;Animation&#x27;]])</pre><b>In a Jupyter environment, please rerun this cell to show the HTML representation or trust the notebook. <br />On GitHub, the HTML representation is unable to render, please try loading this page with nbviewer.org.</b></div><div class=\"sk-container\" hidden><div class=\"sk-item\"><div class=\"sk-estimator sk-toggleable\"><input class=\"sk-toggleable__control sk-hidden--visually\" id=\"sk-estimator-id-1\" type=\"checkbox\" checked><label for=\"sk-estimator-id-1\" class=\"sk-toggleable__label sk-toggleable__label-arrow\">OneHotEncoder</label><div class=\"sk-toggleable__content\"><pre>OneHotEncoder(categories=[[&#x27;Action&#x27;, &#x27;Adventure&#x27;, &#x27;Comedy&#x27;, &#x27;Drama&#x27;, &#x27;Fantasy&#x27;,\n",
       "                           &#x27;Romance&#x27;, &#x27;Sci-Fi&#x27;, &#x27;Thriller&#x27;, &#x27;Family&#x27;,\n",
       "                           &#x27;Animation&#x27;]])</pre></div></div></div></div></div>"
      ],
      "text/plain": [
       "OneHotEncoder(categories=[['Action', 'Adventure', 'Comedy', 'Drama', 'Fantasy',\n",
       "                           'Romance', 'Sci-Fi', 'Thriller', 'Family',\n",
       "                           'Animation']])"
      ]
     },
     "execution_count": 62,
     "metadata": {},
     "output_type": "execute_result"
    }
   ],
   "source": [
    "#encoder"
   ]
  },
  {
   "cell_type": "code",
   "execution_count": 58,
   "metadata": {},
   "outputs": [],
   "source": [
    "import pandas as pd\n",
    "from sklearn.neighbors import NearestNeighbors\n",
    "from sklearn.preprocessing import OneHotEncoder\n",
    "from sklearn.preprocessing import MultiLabelBinarizer\n",
    "\n",
    "def recomendacion_KNN(titulo):\n",
    "       \n",
    "    # Obtener el índice de la película que coincide con el título ingresado\n",
    "    indices = pd.Series(df2.index, index=df2['title']).drop_duplicates()\n",
    "    idx = indices[titulo]\n",
    "    \n",
    "    # Seleccionar las características relevantes para el algoritmo KNN\n",
    "    features = ['popularity', 'vote_count','vote_average','release_year']\n",
    "    X = df2[features]\n",
    "\n",
    "        \n",
    "       \n",
    "    # Normalizar las características\n",
    "    X = (X - X.mean()) / X.std()\n",
    "    \n",
    "    # Crear una instancia del algoritmo KNN\n",
    "    knn = NearestNeighbors(n_neighbors=6)  # Consideramos 6 vecinos, incluyendo la película seleccionada\n",
    "    \n",
    "    # Entrenar el modelo KNN\n",
    "    knn.fit(X)\n",
    "    \n",
    "    # Obtener la distancia y los índices de los vecinos más cercanos\n",
    "    distances, indices = knn.kneighbors(X.iloc[idx].values.reshape(1, -1))\n",
    "    \n",
    "    # Obtener los títulos de las películas más similares (excluyendo la película seleccionada)\n",
    "    similar_movies = df2['title'].iloc[indices[0][1:6]]\n",
    "    \n",
    "    return similar_movies\n"
   ]
  },
  {
   "cell_type": "code",
   "execution_count": 59,
   "metadata": {},
   "outputs": [
    {
     "name": "stderr",
     "output_type": "stream",
     "text": [
      "c:\\Users\\TheFercho\\AppData\\Local\\Programs\\Python\\Python311\\Lib\\site-packages\\sklearn\\base.py:439: UserWarning: X does not have valid feature names, but NearestNeighbors was fitted with feature names\n",
      "  warnings.warn(\n"
     ]
    },
    {
     "data": {
      "text/plain": [
       "359                                  The Lion King\n",
       "3453                                     Gladiator\n",
       "8228                               The Incredibles\n",
       "1916                           Saving Private Ryan\n",
       "11919    Harry Potter and the Order of the Phoenix\n",
       "Name: title, dtype: object"
      ]
     },
     "execution_count": 59,
     "metadata": {},
     "output_type": "execute_result"
    }
   ],
   "source": [
    "recomendacion_KNN('Toy Story')"
   ]
  }
 ],
 "metadata": {
  "kernelspec": {
   "display_name": "Python 3",
   "language": "python",
   "name": "python3"
  },
  "language_info": {
   "codemirror_mode": {
    "name": "ipython",
    "version": 3
   },
   "file_extension": ".py",
   "mimetype": "text/x-python",
   "name": "python",
   "nbconvert_exporter": "python",
   "pygments_lexer": "ipython3",
   "version": "3.11.3"
  },
  "orig_nbformat": 4
 },
 "nbformat": 4,
 "nbformat_minor": 2
}
