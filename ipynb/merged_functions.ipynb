{
 "cells": [
  {
   "cell_type": "code",
   "execution_count": 2,
   "metadata": {},
   "outputs": [],
   "source": [
    "import pandas as pd\n",
    "import numpy as np\n",
    "from matplotlib import pyplot\n",
    "from datetime import datetime\n",
    "import calendar"
   ]
  },
  {
   "cell_type": "code",
   "execution_count": 3,
   "metadata": {},
   "outputs": [],
   "source": [
    "df_v1=pd.read_csv('merged_movies_credits.csv')"
   ]
  },
  {
   "cell_type": "code",
   "execution_count": 4,
   "metadata": {},
   "outputs": [
    {
     "data": {
      "text/plain": [
       "Index(['budget', 'genres', 'id', 'original_language', 'popularity',\n",
       "       'production_companies', 'production_countries', 'release_date',\n",
       "       'revenue', 'runtime', 'spoken_languages', 'title', 'vote_average',\n",
       "       'vote_count', 'return', 'release_year', 'release_day', 'cast',\n",
       "       'director_name', 'crew'],\n",
       "      dtype='object')"
      ]
     },
     "execution_count": 4,
     "metadata": {},
     "output_type": "execute_result"
    }
   ],
   "source": [
    "df_v1.columns"
   ]
  },
  {
   "cell_type": "code",
   "execution_count": 5,
   "metadata": {},
   "outputs": [
    {
     "data": {
      "text/plain": [
       "(45386, 20)"
      ]
     },
     "execution_count": 5,
     "metadata": {},
     "output_type": "execute_result"
    }
   ],
   "source": [
    "df_v1.shape"
   ]
  },
  {
   "cell_type": "code",
   "execution_count": 6,
   "metadata": {},
   "outputs": [
    {
     "name": "stdout",
     "output_type": "stream",
     "text": [
      "<class 'pandas.core.frame.DataFrame'>\n",
      "RangeIndex: 45386 entries, 0 to 45385\n",
      "Data columns (total 20 columns):\n",
      " #   Column                Non-Null Count  Dtype  \n",
      "---  ------                --------------  -----  \n",
      " 0   budget                45386 non-null  float64\n",
      " 1   genres                45386 non-null  object \n",
      " 2   id                    45386 non-null  int64  \n",
      " 3   original_language     45386 non-null  object \n",
      " 4   popularity            45386 non-null  float64\n",
      " 5   production_companies  45386 non-null  object \n",
      " 6   production_countries  45386 non-null  object \n",
      " 7   release_date          45386 non-null  object \n",
      " 8   revenue               45386 non-null  float64\n",
      " 9   runtime               45386 non-null  float64\n",
      " 10  spoken_languages      45386 non-null  object \n",
      " 11  title                 45386 non-null  object \n",
      " 12  vote_average          45386 non-null  float64\n",
      " 13  vote_count            45386 non-null  int64  \n",
      " 14  return                45386 non-null  float64\n",
      " 15  release_year          45386 non-null  int64  \n",
      " 16  release_day           45386 non-null  object \n",
      " 17  cast                  45386 non-null  object \n",
      " 18  director_name         45386 non-null  object \n",
      " 19  crew                  45386 non-null  object \n",
      "dtypes: float64(6), int64(3), object(11)\n",
      "memory usage: 6.9+ MB\n"
     ]
    }
   ],
   "source": [
    "df_v1.info()"
   ]
  },
  {
   "cell_type": "code",
   "execution_count": 7,
   "metadata": {},
   "outputs": [],
   "source": [
    "df_v1.to_json('merged_movies_credits.json')"
   ]
  },
  {
   "attachments": {},
   "cell_type": "markdown",
   "metadata": {},
   "source": [
    "### Deben crear 6 funciones para los endpoints que se consumirán en la API, recuerden que deben tener un decorador por cada una (@app.get(‘/’))."
   ]
  },
  {
   "cell_type": "code",
   "execution_count": 8,
   "metadata": {},
   "outputs": [],
   "source": [
    "# Cambiamos las fechas de la columna 'release_date' a formato AAAA-mm-dd, ignorando con 'coerce'\n",
    "# los valores que no cumplen con el criterio para la funcion .to_datetime\n",
    "df_v1[\"release_date\"] = pd.to_datetime(df_v1['release_date'],errors='coerce')\n"
   ]
  },
  {
   "cell_type": "code",
   "execution_count": 9,
   "metadata": {},
   "outputs": [],
   "source": [
    "# Funcion 1: def cantidad_filmaciones_mes( Mes ): Se ingresa un mes en idioma Español. \n",
    "# Debe devolver la cantidad de películas que fueron estrenadas en el mes consultado en la totalidad del dataset.\n",
    "#  Ejemplo de retorno: X cantidad de películas fueron estrenadas en el mes de X\n",
    "\n",
    "from dateutil.parser import parse\n",
    "\n",
    "def cantidad_filmaciones_mes(mes):\n",
    "# Mapear los nombres de los meses en español a los números de mes correspondientes\n",
    "    meses = {\n",
    "        'enero': 1,\n",
    "        'febrero': 2,\n",
    "        'marzo': 3,\n",
    "        'abril': 4,\n",
    "        'mayo': 5,\n",
    "        'junio': 6,\n",
    "        'julio': 7,\n",
    "        'agosto': 8,\n",
    "        'septiembre': 9,\n",
    "        'octubre': 10,\n",
    "        'noviembre': 11,\n",
    "        'diciembre': 12\n",
    "    }\n",
    "# Obtener el número del mes a partir del nombre en español\n",
    "    mes_numero = meses.get(mes.lower())\n",
    "\n",
    "    if mes_numero is None:\n",
    "        raise ValueError('Mes inválido: {}'.format(mes))\n",
    "\n",
    "    # Filtrar las películas por mes y contar la cantidad\n",
    "    cantidad = df_v1[df_v1['release_date'].dt.month == mes_numero].shape[0]\n",
    "\n",
    "    return f\"{cantidad} es la cantidad de películas que fueron estrenadas en el mes de {mes}.\""
   ]
  },
  {
   "cell_type": "code",
   "execution_count": 10,
   "metadata": {},
   "outputs": [
    {
     "data": {
      "text/plain": [
       "'3034 es la cantidad de películas que fueron estrenadas en el mes de febrero.'"
      ]
     },
     "execution_count": 10,
     "metadata": {},
     "output_type": "execute_result"
    }
   ],
   "source": [
    "cantidad_filmaciones_mes('febrero')"
   ]
  },
  {
   "cell_type": "code",
   "execution_count": 11,
   "metadata": {},
   "outputs": [],
   "source": [
    "# Funcion 2: def cantidad_filmaciones_dia( Dia ): Se ingresa un día en idioma Español. \n",
    "# Debe devolver la cantidad de películas que fueron estrenadas en día consultado en la totalidad del dataset.\n",
    "# Ejemplo de retorno: X cantidad de películas fueron estrenadas en los días X\n",
    "\n",
    "def cantidad_filmaciones_dia(dia):\n",
    "    # Mapear los nombres de los días en español a los números de día correspondientes\n",
    "    dias = {\n",
    "        'lunes': 0,\n",
    "        'martes': 1,\n",
    "        'miércoles': 2,\n",
    "        'jueves': 3,\n",
    "        'viernes': 4,\n",
    "        'sábado': 5,\n",
    "        'domingo': 6\n",
    "    }\n",
    "\n",
    "# Obtener el número del día a partir del nombre en español\n",
    "    dia_numero = dias.get(dia.lower())\n",
    "\n",
    "    if dia_numero is None:\n",
    "        raise ValueError('Día inválido: {}'.format(dia))\n",
    "\n",
    "# Filtrar las películas por día de la semana y contar la cantidad\n",
    "    cantidad = df_v1[df_v1['release_date'].dt.dayofweek == dia_numero].shape[0]\n",
    "\n",
    "    return f\"{cantidad} es la cantidad de películas que fueron estrenadas en los dias {dia}.\"\n"
   ]
  },
  {
   "cell_type": "code",
   "execution_count": 12,
   "metadata": {},
   "outputs": [
    {
     "data": {
      "text/plain": [
       "'4641 es la cantidad de películas que fueron estrenadas en los dias martes.'"
      ]
     },
     "execution_count": 12,
     "metadata": {},
     "output_type": "execute_result"
    }
   ],
   "source": [
    "cantidad_filmaciones_dia('martes')"
   ]
  },
  {
   "cell_type": "code",
   "execution_count": 13,
   "metadata": {},
   "outputs": [],
   "source": [
    "# Funcion 3 : def score_titulo( titulo_de_la_filmación ): Se ingresa el título de una filmación esperando como \n",
    "# respuesta el título, el año de estreno y el score.\n",
    "# Ejemplo de retorno: La película X fue estrenada en el año X con un score/popularidad de X\n",
    "\n",
    "def score_titulo_2(titulo_de_la_filmación):\n",
    "    # Realizamos una búsqueda case insensitive y con coincidencia parcial\n",
    "    coincidencia = df_v1['title'].str.contains(titulo_de_la_filmación, case=False, na=False)\n",
    "\n",
    "    # Filtramos el DataFrame para obtener las filas con coincidencias\n",
    "    # df_v1[coincidencia]\n",
    "\n",
    "    # Si hay coincidencias, seleccionamos la primera fila y obtenemos los valores\n",
    "    if not df_v1[coincidencia].empty:\n",
    "        row = df_v1[coincidencia].iloc[0]\n",
    "        return f\"La pelicula {row['title']} fue estrenada en el año {row['release_year']} con un score de {row['vote_average']}\"\n",
    "\n",
    "    return None"
   ]
  },
  {
   "cell_type": "code",
   "execution_count": 14,
   "metadata": {},
   "outputs": [
    {
     "data": {
      "text/plain": [
       "'La pelicula Toy Story fue estrenada en el año 1995 con un score de 7.7'"
      ]
     },
     "execution_count": 14,
     "metadata": {},
     "output_type": "execute_result"
    }
   ],
   "source": [
    "score_titulo_2('toy st')"
   ]
  },
  {
   "cell_type": "code",
   "execution_count": 15,
   "metadata": {},
   "outputs": [],
   "source": [
    "# Funcion 4: def votos_titulo( titulo_de_la_filmación ): Se ingresa el título de una filmación esperando como respuesta el \n",
    "# título, la cantidad de votos y el valor promedio de las votaciones. La misma variable deberá de contar con al menos \n",
    "# 2000 valoraciones, caso contrario, debemos contar con un mensaje avisando que no cumple esta condición y que por ende, \n",
    "# no se devuelve ningun valor.\n",
    "# Ejemplo de retorno: La película X fue estrenada en el año X. La misma cuenta con un total de X valoraciones, \n",
    "# con un promedio de X.\n",
    "\n",
    "def votos_titulo(titulo_de_la_filmación):\n",
    "    # Realizamos una búsqueda case insensitive y con coincidencia parcial\n",
    "    matches = df_v1['title'].str.contains(titulo_de_la_filmación, case=False, na=False)\n",
    "\n",
    "    # Filtramos el DataFrame para obtener las filas con coincidencias\n",
    "    df_matches = df_v1[matches]\n",
    "\n",
    "    # Si hay coincidencias, seleccionamos la primera fila y verificamos el número de valoraciones\n",
    "    if not df_matches.empty:\n",
    "        row = df_matches.iloc[0]\n",
    "        vote_count = row['vote_count']\n",
    "        if vote_count < 2000:\n",
    "            return f\"La pelicula {row['title']} no obtuvo suficientes valoraciones\"\n",
    "        return f\"La pelicula {row['title']} fue estrenada en el año {row['release_year']} con un total de {row['vote_count']} valoraciones y un promedio de {row['vote_average']}\"\n",
    "\n",
    "    \n"
   ]
  },
  {
   "cell_type": "code",
   "execution_count": 16,
   "metadata": {},
   "outputs": [
    {
     "data": {
      "text/plain": [
       "'La pelicula Toy Story fue estrenada en el año 1995 con un total de 5415 valoraciones y un promedio de 7.7'"
      ]
     },
     "execution_count": 16,
     "metadata": {},
     "output_type": "execute_result"
    }
   ],
   "source": [
    "votos_titulo('toy S')"
   ]
  },
  {
   "cell_type": "code",
   "execution_count": 17,
   "metadata": {},
   "outputs": [
    {
     "data": {
      "text/plain": [
       "'La pelicula Grumpier Old Men no obtuvo suficientes valoraciones'"
      ]
     },
     "execution_count": 17,
     "metadata": {},
     "output_type": "execute_result"
    }
   ],
   "source": [
    "votos_titulo('Grumpier Old Men')"
   ]
  },
  {
   "cell_type": "code",
   "execution_count": 18,
   "metadata": {},
   "outputs": [],
   "source": [
    "# Funcion 5: def get_actor( nombre_actor ): Se ingresa el nombre de un actor que se encuentre dentro de un dataset \n",
    "# debiendo devolver el éxito del mismo medido a través del retorno. Además, la cantidad de películas que en las que \n",
    "# ha participado y el promedio de retorno. La definición no deberá considerar directores.\n",
    "# Ejemplo de retorno: El actor X ha participado de X cantidad de filmaciones, el mismo ha conseguido un retorno de X \n",
    "# con un promedio de X por filmación.\n",
    "\n",
    "def get_actor(nombre_actor):\n",
    "    # Filtrar las filas del DataFrame donde el nombre del actor coincide\n",
    "    actor_films = df_v1[df_v1['cast'].str.contains(nombre_actor, case=False, na=False)]\n",
    "    \n",
    "    # Calcular la cantidad de películas en las que ha participado el actor\n",
    "    cantidad_peliculas = len(actor_films)\n",
    "    \n",
    "    # Calcular el promedio de la columna 'return' para el actor\n",
    "    promedio_return = actor_films['return'].mean()\n",
    "    \n",
    "    # Calcular el éxito del actor mediante la columna 'return'\n",
    "    exito_actor = actor_films['return'].sum()\n",
    "    \n",
    "    return exito_actor, cantidad_peliculas, promedio_return"
   ]
  },
  {
   "cell_type": "code",
   "execution_count": 19,
   "metadata": {},
   "outputs": [
    {
     "data": {
      "text/plain": [
       "(inf, 66, inf)"
      ]
     },
     "execution_count": 19,
     "metadata": {},
     "output_type": "execute_result"
    }
   ],
   "source": [
    "get_actor('Brad p')"
   ]
  },
  {
   "cell_type": "code",
   "execution_count": 20,
   "metadata": {},
   "outputs": [],
   "source": [
    "def get_actor_2(nombre_actor):\n",
    "    actor_films = df_v1[df_v1['cast'].str.contains(nombre_actor, case=False, na=False)]\n",
    "    cantidad_peliculas = len(actor_films)\n",
    "    \n",
    "    # Inicializar el éxito del actor y el total de 'return'\n",
    "    exito_actor = 0\n",
    "    total_return = 0\n",
    "    \n",
    "    # Calcular el éxito del actor y el total de 'return'\n",
    "    for _, row in actor_films.iterrows():\n",
    "        budget = row['budget']\n",
    "        revenue = row['revenue']\n",
    "        if revenue != 0:\n",
    "            return_value = budget / revenue\n",
    "            exito_actor += return_value\n",
    "            total_return += 1\n",
    "    \n",
    "    # Calcular el promedio de 'return'\n",
    "    promedio_return = exito_actor / total_return if total_return != 0 else 0\n",
    "    \n",
    "    #return round(exito_actor,3), cantidad_peliculas, round((promedio_return*100),2)\n",
    "    return f\"\"\"El actor {nombre_actor} ha participado de {cantidad_peliculas} filmaciones.\n",
    "    El mismo ha conseguido un retorno de {round(exito_actor,3)}M con un promedio de {round((promedio_return*100),2)}M por filmación.\"\"\""
   ]
  },
  {
   "cell_type": "code",
   "execution_count": 21,
   "metadata": {},
   "outputs": [
    {
     "data": {
      "text/plain": [
       "'El actor brad pi ha participado de 60 filmaciones.\\n    El mismo ha conseguido un retorno de 29.641M con un promedio de 63.07M por filmación.'"
      ]
     },
     "execution_count": 21,
     "metadata": {},
     "output_type": "execute_result"
    }
   ],
   "source": [
    "get_actor_2('brad pi')"
   ]
  },
  {
   "cell_type": "code",
   "execution_count": 60,
   "metadata": {},
   "outputs": [],
   "source": [
    "# Funcion 6: def get_director( nombre_director ): Se ingresa el nombre de un director que se encuentre dentro \n",
    "# de un dataset debiendo devolver el éxito del mismo medido a través del retorno. Además, deberá devolver:\n",
    "# => el nombre de cada película con la fecha de lanzamiento, \n",
    "# => retorno individual, costo y ganancia de la misma.\n",
    "\n",
    "def get_director_2(nombre_director):\n",
    "    director_films = df_v1[df_v1['director_name'].str.contains(nombre_director, case=False, na=False)]\n",
    "        \n",
    "    # Inicializar el éxito del actor y el total de 'return'\n",
    "    exito_director = 0\n",
    "    total_return = 0\n",
    "    \n",
    "    # Calcular el éxito del actor y el total de 'return'\n",
    "    for _, row in director_films.iterrows():\n",
    "        budget = row['budget']\n",
    "        revenue = row['revenue']\n",
    "        if revenue != 0:\n",
    "            return_value = budget / revenue\n",
    "            exito_director += return_value\n",
    "            total_return += 1\n",
    "    \n",
    "    # Calcular el promedio de 'return'\n",
    "    promedio_return = exito_director / total_return if total_return != 0 else 0\n",
    "    \n",
    "    #return round(exito_actor,3), cantidad_peliculas, round((promedio_return*100),2)\n",
    "    return f\"\"\"El director {nombre_director} ha conseguido un retorno de {round(exito_director,3)}M con un promedio de {round((promedio_return*100),2)}% por filmación.\"\"\""
   ]
  },
  {
   "cell_type": "code",
   "execution_count": 61,
   "metadata": {},
   "outputs": [
    {
     "data": {
      "text/plain": [
       "'El director george lucas ha conseguido un retorno de 0.781M con un promedio de 13.01% por filmación.'"
      ]
     },
     "execution_count": 61,
     "metadata": {},
     "output_type": "execute_result"
    }
   ],
   "source": [
    "get_director_2('george lucas')"
   ]
  },
  {
   "cell_type": "code",
   "execution_count": 24,
   "metadata": {},
   "outputs": [
    {
     "data": {
      "text/plain": [
       "Index(['budget', 'genres', 'id', 'original_language', 'popularity',\n",
       "       'production_companies', 'production_countries', 'release_date',\n",
       "       'revenue', 'runtime', 'spoken_languages', 'title', 'vote_average',\n",
       "       'vote_count', 'return', 'release_year', 'release_day', 'cast',\n",
       "       'director_name', 'crew'],\n",
       "      dtype='object')"
      ]
     },
     "execution_count": 24,
     "metadata": {},
     "output_type": "execute_result"
    }
   ],
   "source": [
    "df_v1.columns\n"
   ]
  },
  {
   "cell_type": "code",
   "execution_count": 72,
   "metadata": {},
   "outputs": [],
   "source": [
    "# def get_director( nombre_director ): Se ingresa el nombre de un director que se encuentre dentro \n",
    "# de un dataset debiendo devolver:\n",
    "# => el éxito del mismo medido a través del retorno. \n",
    "# => el nombre de cada película con la fecha de lanzamiento, \n",
    "# => retorno individual, costo y ganancia de la misma.\n",
    "def get_director(nombre_director):\n",
    "    peliculas = []\n",
    "    director_films = df_v1[df_v1['director_name'].str.contains(nombre_director, case=False, na=False)]\n",
    "    for pelicula in director_films:\n",
    "        if df_v1['director_name'][1] == nombre_director:\n",
    "            peliculas.append({\n",
    "                'nombre': pelicula['title'],\n",
    "                'fecha_lanzamiento': pelicula['release_date'],\n",
    "                'retorno': pelicula['return'],\n",
    "                'costo': pelicula['budget'],\n",
    "                'ganancia': pelicula['revenue']\n",
    "            })\n",
    "    \n",
    "    if len(peliculas) == 0:\n",
    "        return \"No se encontraron películas para el director especificado.\"\n",
    "    \n",
    "    exito_total = sum(pelicula['return'] for pelicula in peliculas)\n",
    "    \n",
    "    return {\n",
    "        'exito_total': exito_total,\n",
    "        'peliculas': peliculas\n",
    "    }\n"
   ]
  },
  {
   "cell_type": "code",
   "execution_count": 73,
   "metadata": {},
   "outputs": [
    {
     "data": {
      "text/plain": [
       "'No se encontraron películas para el director especificado.'"
      ]
     },
     "execution_count": 73,
     "metadata": {},
     "output_type": "execute_result"
    }
   ],
   "source": [
    "get_director('Tom Hanks')"
   ]
  },
  {
   "cell_type": "code",
   "execution_count": 27,
   "metadata": {},
   "outputs": [],
   "source": [
    "# def get_director( nombre_director ): Se ingresa el nombre de un director que se encuentre dentro \n",
    "# de un dataset debiendo devolver:\n",
    "# => el éxito del mismo medido a través del retorno. \n",
    "# => el nombre de cada película con la fecha de lanzamiento, \n",
    "# => retorno individual, costo y ganancia de la misma.\n",
    "\n",
    "def get_director_3(nombre_director):\n",
    "    # => el nombre de cada película con la fecha de lanzamiento\n",
    "    # => para busqueda exacta >> peliculas = df[df['director_name'] == nombre_director][['title', 'release_year']]\n",
    "    peliculas = df_v1[df_v1['director_name'].str.contains(nombre_director,case=False,na=False)][['title', 'release_date','budget','return']]\n",
    "    \n",
    "    # => el retorno individual, el éxito del mismo medido a través del retorno.\n",
    "    exito_director = peliculas['return'].sum()\n",
    "    costo = peliculas['budget']\n",
    "    return {'films':peliculas, 'exito': exito_director, 'costo': costo}\n",
    "\n"
   ]
  },
  {
   "cell_type": "code",
   "execution_count": 28,
   "metadata": {},
   "outputs": [
    {
     "data": {
      "text/plain": [
       "{'films':                                               title release_date       budget   \n",
       " 256                                       Star Wars   1977-05-25   11000000.0  \\\n",
       " 2514      Star Wars: Episode I - The Phantom Menace   1999-05-19  115000000.0   \n",
       " 3246                              American Graffiti   1973-08-01     777000.0   \n",
       " 5246   Star Wars: Episode II - Attack of the Clones   2002-05-15  120000000.0   \n",
       " 6500                                       THX 1138   1971-03-11     777000.0   \n",
       " 10074  Star Wars: Episode III - Revenge of the Sith   2005-05-17  113000000.0   \n",
       " 14112                                    A Dog Year   2009-09-03          0.0   \n",
       " 24621             Electronic Labyrinth THX 1138 4EB   1967-03-14          0.0   \n",
       " 30601                              Traffic in Souls   1913-11-24          0.0   \n",
       " 32624                         Vanishing of the Bees   2009-10-09          0.0   \n",
       " 32874                       The Conquest of Everest   1953-12-09          0.0   \n",
       " 39758                                        Medusa   1998-11-15          0.0   \n",
       " \n",
       "            return  \n",
       " 256     70.490728  \n",
       " 2514     8.037544  \n",
       " 3246   180.180180  \n",
       " 5246     5.411653  \n",
       " 6500     3.136422  \n",
       " 10074    7.522124  \n",
       " 14112    0.000000  \n",
       " 24621    0.000000  \n",
       " 30601    0.000000  \n",
       " 32624    0.000000  \n",
       " 32874    0.000000  \n",
       " 39758    0.000000  ,\n",
       " 'exito': 274.7786508354406,\n",
       " 'costo': 256       11000000.0\n",
       " 2514     115000000.0\n",
       " 3246        777000.0\n",
       " 5246     120000000.0\n",
       " 6500        777000.0\n",
       " 10074    113000000.0\n",
       " 14112            0.0\n",
       " 24621            0.0\n",
       " 30601            0.0\n",
       " 32624            0.0\n",
       " 32874            0.0\n",
       " 39758            0.0\n",
       " Name: budget, dtype: float64}"
      ]
     },
     "execution_count": 28,
     "metadata": {},
     "output_type": "execute_result"
    }
   ],
   "source": [
    "get_director_3('george l')"
   ]
  },
  {
   "cell_type": "code",
   "execution_count": null,
   "metadata": {},
   "outputs": [],
   "source": [
    "# Funcion ML => def recomendacion( `titulo` ):\n",
    "#    Se ingresa el nombre de una película y te recomienda las similares en una lista de 5 valores.\n",
    "\n"
   ]
  }
 ],
 "metadata": {
  "kernelspec": {
   "display_name": "Python 3",
   "language": "python",
   "name": "python3"
  },
  "language_info": {
   "codemirror_mode": {
    "name": "ipython",
    "version": 3
   },
   "file_extension": ".py",
   "mimetype": "text/x-python",
   "name": "python",
   "nbconvert_exporter": "python",
   "pygments_lexer": "ipython3",
   "version": "3.11.3"
  },
  "orig_nbformat": 4
 },
 "nbformat": 4,
 "nbformat_minor": 2
}
